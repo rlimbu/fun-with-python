{
 "cells": [
  {
   "cell_type": "markdown",
   "metadata": {},
   "source": [
    "# Check If Parentheses Balance\n",
    "This notebook recursively checks if paraentheses balance in a given text."
   ]
  },
  {
   "cell_type": "code",
   "execution_count": 1,
   "metadata": {
    "collapsed": true
   },
   "outputs": [],
   "source": [
    "def balanced(text):\n",
    "    \"\"\"\n",
    "    This function returns True if text has balanced parenthesis. Else, False is returned.\n",
    "    \"\"\"\n",
    "    def find(h, t, ctr=0):  \n",
    "        if not t:\n",
    "            if h==\"(\":\n",
    "                return ctr+1==0\n",
    "            elif  h==\")\":\n",
    "                return ctr-1==0\n",
    "            else:\n",
    "                return ctr==0      \n",
    "        elif ctr==0 and h==\")\":\n",
    "            return False\n",
    "        elif h==\"(\":\n",
    "              return find(t[0], t[1:], ctr+1)\n",
    "        elif h==\")\":\n",
    "            return find(t[0], t[1:], ctr-1)\n",
    "        else:\n",
    "            return find(t[0], t[1:], ctr)\n",
    "    if text==\"\" or text is None:\n",
    "        return True\n",
    "    else:\n",
    "        return find(text[0], text[1:], 0)"
   ]
  },
  {
   "cell_type": "code",
   "execution_count": 2,
   "metadata": {},
   "outputs": [
    {
     "name": "stdout",
     "output_type": "stream",
     "text": [
      "Balanced: What is in a name (My name is Bond, James Bond!)?\n",
      "Not balanced: ())(\n",
      "Not balanced: :-)\n"
     ]
    }
   ],
   "source": [
    "test_strings = [\"What is in a name (My name is Bond, James Bond!)?\", \"())(\", \":-)\"]\n",
    "for s in test_strings:\n",
    "    print(\"Balanced: {}\".format(s)) if balanced(s) else print(\"Not balanced: {}\".format(s))"
   ]
  }
 ],
 "metadata": {
  "kernelspec": {
   "display_name": "Python 3",
   "language": "python",
   "name": "python3"
  },
  "language_info": {
   "codemirror_mode": {
    "name": "ipython",
    "version": 3
   },
   "file_extension": ".py",
   "mimetype": "text/x-python",
   "name": "python",
   "nbconvert_exporter": "python",
   "pygments_lexer": "ipython3",
   "version": "3.5.3"
  }
 },
 "nbformat": 4,
 "nbformat_minor": 2
}
