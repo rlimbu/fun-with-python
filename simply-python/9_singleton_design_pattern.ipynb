{
 "cells": [
  {
   "cell_type": "markdown",
   "metadata": {
    "collapsed": true
   },
   "source": [
    "# Implementing Singleton Design Pattern\n",
    "\n",
    "A singleton class can be used to implement singleton design pattern. There are a few techniques to implement a singleton class. This notebook explores two.\n",
    "\n",
    "In the first technique, the singleton class is wrapped inside another class as a private class. A new instance of this prviate class is created only if no instance has been created before. An existing instance of the class is returned if it exits.\n",
    "\n",
    "Say that a global log is saved inside a file named \"log.txt\". This is a good use case for a singleton class for exposing this log file and ensuring that only this file is used."
   ]
  },
  {
   "cell_type": "code",
   "execution_count": 1,
   "metadata": {
    "collapsed": true
   },
   "outputs": [],
   "source": [
    "class Log(object):\n",
    "    '''The wrapper class to hold _Log private class'''\n",
    "    \n",
    "    # class variable to hold _log instance\n",
    "    _log_instance = None\n",
    "    \n",
    "    def __new__(cls, log_file):\n",
    "        '''method that gets called when instantiating a class. This gets called before __init__()'''\n",
    "        if not cls._log_instance:\n",
    "            cls._log_instance = cls._Log(log_file)\n",
    "        return cls._log_instance\n",
    "    \n",
    "    class _Log(object):\n",
    "        '''Class to hold log file'''\n",
    "        def __init__(self, log_file):\n",
    "            self._log_file = log_file   \n",
    "        "
   ]
  },
  {
   "cell_type": "markdown",
   "metadata": {},
   "source": [
    "Let's check that only one instance of Log gets created."
   ]
  },
  {
   "cell_type": "code",
   "execution_count": 2,
   "metadata": {},
   "outputs": [
    {
     "name": "stdout",
     "output_type": "stream",
     "text": [
      "<__main__.Log._Log object at 0x04BA57B0>\n"
     ]
    }
   ],
   "source": [
    "log1 = Log('log.txt')\n",
    "print(log1)"
   ]
  },
  {
   "cell_type": "code",
   "execution_count": 3,
   "metadata": {},
   "outputs": [
    {
     "data": {
      "text/plain": [
       "'log.txt'"
      ]
     },
     "execution_count": 3,
     "metadata": {},
     "output_type": "execute_result"
    }
   ],
   "source": [
    "log1._log_file"
   ]
  },
  {
   "cell_type": "code",
   "execution_count": 4,
   "metadata": {},
   "outputs": [
    {
     "name": "stdout",
     "output_type": "stream",
     "text": [
      "<__main__.Log._Log object at 0x04BA57B0>\n"
     ]
    }
   ],
   "source": [
    "log2 = Log('another_log.txt')\n",
    "print(log2)"
   ]
  },
  {
   "cell_type": "code",
   "execution_count": 5,
   "metadata": {},
   "outputs": [
    {
     "data": {
      "text/plain": [
       "'log.txt'"
      ]
     },
     "execution_count": 5,
     "metadata": {},
     "output_type": "execute_result"
    }
   ],
   "source": [
    "log2._log_file"
   ]
  },
  {
   "cell_type": "code",
   "execution_count": 6,
   "metadata": {},
   "outputs": [
    {
     "data": {
      "text/plain": [
       "True"
      ]
     },
     "execution_count": 6,
     "metadata": {},
     "output_type": "execute_result"
    }
   ],
   "source": [
    "log1 is log2"
   ]
  },
  {
   "cell_type": "code",
   "execution_count": 7,
   "metadata": {},
   "outputs": [
    {
     "data": {
      "text/plain": [
       "True"
      ]
     },
     "execution_count": 7,
     "metadata": {},
     "output_type": "execute_result"
    }
   ],
   "source": [
    "id(log1) == id(log2)"
   ]
  },
  {
   "cell_type": "code",
   "execution_count": 8,
   "metadata": {},
   "outputs": [
    {
     "data": {
      "text/plain": [
       "'log.txt'"
      ]
     },
     "execution_count": 8,
     "metadata": {},
     "output_type": "execute_result"
    }
   ],
   "source": [
    "log2._log_file"
   ]
  },
  {
   "cell_type": "markdown",
   "metadata": {},
   "source": [
    "The second technique for implementing the singleton pattern involves class decorators. "
   ]
  },
  {
   "cell_type": "code",
   "execution_count": 9,
   "metadata": {
    "collapsed": true
   },
   "outputs": [],
   "source": [
    "import functools\n",
    "\n",
    "def make_singleton(cls):\n",
    "    '''function to make singletons out of classes'''   \n",
    "  \n",
    "    @functools.wraps(cls)\n",
    "    def wrapper(*args, **kwargs):\n",
    "        if wrapper._class_instance is None:\n",
    "            wrapper._class_instance = cls(*args, **kwargs)\n",
    "        return wrapper._class_instance\n",
    "    wrapper._class_instance = None\n",
    "    return wrapper        "
   ]
  },
  {
   "cell_type": "code",
   "execution_count": 10,
   "metadata": {},
   "outputs": [],
   "source": [
    "@make_singleton\n",
    "class Legion(object):\n",
    "    pass"
   ]
  },
  {
   "cell_type": "code",
   "execution_count": 11,
   "metadata": {
    "collapsed": true
   },
   "outputs": [],
   "source": [
    "L1 = Legion()\n",
    "L2 = Legion()"
   ]
  },
  {
   "cell_type": "code",
   "execution_count": 12,
   "metadata": {},
   "outputs": [
    {
     "data": {
      "text/plain": [
       "True"
      ]
     },
     "execution_count": 12,
     "metadata": {},
     "output_type": "execute_result"
    }
   ],
   "source": [
    "L1 is L2"
   ]
  }
 ],
 "metadata": {
  "kernelspec": {
   "display_name": "Python 3",
   "language": "python",
   "name": "python3"
  },
  "language_info": {
   "codemirror_mode": {
    "name": "ipython",
    "version": 3
   },
   "file_extension": ".py",
   "mimetype": "text/x-python",
   "name": "python",
   "nbconvert_exporter": "python",
   "pygments_lexer": "ipython3",
   "version": "3.6.3"
  }
 },
 "nbformat": 4,
 "nbformat_minor": 2
}
