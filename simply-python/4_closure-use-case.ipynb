{
 "cells": [
  {
   "cell_type": "markdown",
   "metadata": {},
   "source": [
    "# Closure"
   ]
  },
  {
   "cell_type": "markdown",
   "metadata": {},
   "source": [
    "Wikipedia defines *closures* as \"techniques for implementing lexically scoped name binding in languages with first-class functions.\"\n",
    "\n",
    "In plain language, a closure is a function that remembers variables from the namespace of an enclosing function even after the enclosing function goes out of scope.\n",
    "\n",
    "An analogy will shed more light. In object-oriented programming, an object is a data structure that comes with methods to operate on data. A closure is the opposite: It is a function that comes with its own data, the variable(s) passed by the enclosing function.\n",
    "\n",
    "Wikipedia gives the following example of a closure:\n",
    "\n",
    "<pre>\n",
    "function startAt(x)\n",
    "   function incrementBy(y)\n",
    "       return x + y\n",
    "   return incrementBy\n",
    "\n",
    "variable closure1 = startAt(1)\n",
    "variable closure2 = startAt(5)\n",
    "</pre>\n",
    "\n",
    "The *startAt()* returns a function that adds 2 numbers. The first number is supplied by *startAt()* - this is the argument *x* from the enclosing namespace - and the second number is passed to the enclosed function when it is called.\n",
    "\n",
    "Let's implement the above Wikipedia closure example in Python."
   ]
  },
  {
   "cell_type": "code",
   "execution_count": 1,
   "metadata": {
    "collapsed": true
   },
   "outputs": [],
   "source": [
    "def startAt(x):\n",
    "    \"\"\"\n",
    "    Define the enclosing function with a free variable called 'x'\n",
    "    \"\"\"\n",
    "    def incrementBy(y):\n",
    "        \"\"\"\n",
    "        Define the enclosed function that binds free variable 'x'\n",
    "        \"\"\"\n",
    "        return x+y\n",
    "    return incrementBy"
   ]
  },
  {
   "cell_type": "markdown",
   "metadata": {},
   "source": [
    "Now, let's create the 2 closures from the wikipedia example above:"
   ]
  },
  {
   "cell_type": "code",
   "execution_count": 2,
   "metadata": {
    "collapsed": true
   },
   "outputs": [],
   "source": [
    "closure1 = startAt(1)\n",
    "closure2 = startAt(5)"
   ]
  },
  {
   "cell_type": "markdown",
   "metadata": {},
   "source": [
    "Check the types of these 2 variables:"
   ]
  },
  {
   "cell_type": "code",
   "execution_count": 3,
   "metadata": {},
   "outputs": [
    {
     "name": "stdout",
     "output_type": "stream",
     "text": [
      "The types of 'closure1' and 'closure2' are <class 'function'> and <class 'function'>, respectively.\n"
     ]
    }
   ],
   "source": [
    "print(\"The types of 'closure1' and 'closure2' are {} and {}, respectively.\".\\\n",
    "        format(type(closure1), type(closure2)))"
   ]
  },
  {
   "cell_type": "markdown",
   "metadata": {},
   "source": [
    "*closure1* and *closure2* are functions that remember the variable from their enclosing namespace. This variable has the value of 1 in the case of *closure1* and 5 in that of *closure2*, as these were the values passed when defining these closures above. Let's use these functions to perform additions."
   ]
  },
  {
   "cell_type": "code",
   "execution_count": 4,
   "metadata": {},
   "outputs": [
    {
     "data": {
      "text/plain": [
       "6"
      ]
     },
     "execution_count": 4,
     "metadata": {},
     "output_type": "execute_result"
    }
   ],
   "source": [
    "# pass 5 to closure1. This performs 1 + 5, returning 6\n",
    "closure1(5)"
   ]
  },
  {
   "cell_type": "code",
   "execution_count": 5,
   "metadata": {
    "collapsed": true
   },
   "outputs": [],
   "source": [
    "# pass 1 million to closure2. This performs 5 + 1 million, returning 1,000,005"
   ]
  },
  {
   "cell_type": "code",
   "execution_count": 6,
   "metadata": {},
   "outputs": [
    {
     "data": {
      "text/plain": [
       "1000005.0"
      ]
     },
     "execution_count": 6,
     "metadata": {},
     "output_type": "execute_result"
    }
   ],
   "source": [
    "closure2(1e6)"
   ]
  },
  {
   "cell_type": "markdown",
   "metadata": {},
   "source": [
    "These examples suggest a simple closure use case, which is that of closures as function factories to produce customised functions. In the above example, *closure1* is a custom function that increments any number passed to it by 1 whereas *closure2* is another custom function that increments passed values by 5. *startAt()* acts as a function factory to produce these custom functions."
   ]
  },
  {
   "cell_type": "markdown",
   "metadata": {},
   "source": [
    "## Another Use Case\n",
    "Let's look at a more interesting closure use case.\n",
    "\n",
    "It was noted above that closures can be thought of as functions that come with their own data. Sometimes, functions may need to pack their own data, in which case closures come into their own.\n",
    "\n",
    "Let's create a function that takes the mean of a Series object between two quantiles."
   ]
  },
  {
   "cell_type": "code",
   "execution_count": 7,
   "metadata": {
    "collapsed": true
   },
   "outputs": [],
   "source": [
    "def quantile_range_mean(s, low=0.25, high=0.75):\n",
    "    \"\"\"\n",
    "    This function takes the mean of a Series object 's' between two quantiles low and high \n",
    "    inclusive. If no values are supplied for low and high, this function takes the mean of the\n",
    "    inter-quartile range\n",
    "    \"\"\"\n",
    "    return s[(s>=s.quantile(low)) & (s<=s.quantile(high))].mean()"
   ]
  },
  {
   "cell_type": "markdown",
   "metadata": {},
   "source": [
    "Create another function that returns the minimum of a series between two quantiles."
   ]
  },
  {
   "cell_type": "code",
   "execution_count": 8,
   "metadata": {
    "collapsed": true
   },
   "outputs": [],
   "source": [
    "def quantile_range_min(s, low=0.25, high=0.75):\n",
    "    \"\"\"\n",
    "    This function takes the min of a Series object 's' between two quantiles low and high \n",
    "    inclusive. If no values are supplied for low and high, this function takes the min of the\n",
    "    inter-quartile range\n",
    "    \"\"\"\n",
    "    return s[(s>=s.quantile(low)) & (s<=s.quantile(high))].min()"
   ]
  },
  {
   "cell_type": "markdown",
   "metadata": {},
   "source": [
    "Finally, create another function that returns the maximum of a series between two quantiles."
   ]
  },
  {
   "cell_type": "code",
   "execution_count": 9,
   "metadata": {
    "collapsed": true
   },
   "outputs": [],
   "source": [
    "def quantile_range_max(s, low=0.25, high=0.75):\n",
    "    \"\"\"\n",
    "    This function takes the max of a Series object 's' between two quantiles low and high \n",
    "    inclusive. If no values are supplied for low and high, this function takes the max of the\n",
    "    inter-quartile range\n",
    "    \"\"\"\n",
    "    return s[(s>=s.quantile(low)) & (s<=s.quantile(high))].max()"
   ]
  },
  {
   "cell_type": "markdown",
   "metadata": {},
   "source": [
    "Let's create a dataframe out of random values."
   ]
  },
  {
   "cell_type": "code",
   "execution_count": 10,
   "metadata": {},
   "outputs": [
    {
     "data": {
      "text/plain": [
       "(1000, 4)"
      ]
     },
     "execution_count": 10,
     "metadata": {},
     "output_type": "execute_result"
    }
   ],
   "source": [
    "import numpy as np\n",
    "import pandas as pd\n",
    "from numpy import random\n",
    "np.random.seed(10)\n",
    "df = pd.DataFrame(random.rand(1000, 4), columns=list('abcd'))\n",
    "df.shape"
   ]
  },
  {
   "cell_type": "markdown",
   "metadata": {},
   "source": [
    "Add a column of randomly selected values from a list of words."
   ]
  },
  {
   "cell_type": "code",
   "execution_count": 11,
   "metadata": {
    "collapsed": true
   },
   "outputs": [],
   "source": [
    "df['nick_names'] = random.choice(['Beetrooter', 'Mad Monk', 'Lord Downer', \\\n",
    "                'Desiccated Coconut', 'Man of Steel', 'Witch of Ipswich'], size=1000)"
   ]
  },
  {
   "cell_type": "code",
   "execution_count": 12,
   "metadata": {},
   "outputs": [
    {
     "data": {
      "text/html": [
       "<div>\n",
       "<style>\n",
       "    .dataframe thead tr:only-child th {\n",
       "        text-align: right;\n",
       "    }\n",
       "\n",
       "    .dataframe thead th {\n",
       "        text-align: left;\n",
       "    }\n",
       "\n",
       "    .dataframe tbody tr th {\n",
       "        vertical-align: top;\n",
       "    }\n",
       "</style>\n",
       "<table border=\"1\" class=\"dataframe\">\n",
       "  <thead>\n",
       "    <tr style=\"text-align: right;\">\n",
       "      <th></th>\n",
       "      <th>a</th>\n",
       "      <th>b</th>\n",
       "      <th>c</th>\n",
       "      <th>d</th>\n",
       "      <th>nick_names</th>\n",
       "    </tr>\n",
       "  </thead>\n",
       "  <tbody>\n",
       "    <tr>\n",
       "      <th>0</th>\n",
       "      <td>0.771321</td>\n",
       "      <td>0.020752</td>\n",
       "      <td>0.633648</td>\n",
       "      <td>0.748804</td>\n",
       "      <td>Mad Monk</td>\n",
       "    </tr>\n",
       "    <tr>\n",
       "      <th>1</th>\n",
       "      <td>0.498507</td>\n",
       "      <td>0.224797</td>\n",
       "      <td>0.198063</td>\n",
       "      <td>0.760531</td>\n",
       "      <td>Man of Steel</td>\n",
       "    </tr>\n",
       "    <tr>\n",
       "      <th>2</th>\n",
       "      <td>0.169111</td>\n",
       "      <td>0.088340</td>\n",
       "      <td>0.685360</td>\n",
       "      <td>0.953393</td>\n",
       "      <td>Desiccated Coconut</td>\n",
       "    </tr>\n",
       "    <tr>\n",
       "      <th>3</th>\n",
       "      <td>0.003948</td>\n",
       "      <td>0.512192</td>\n",
       "      <td>0.812621</td>\n",
       "      <td>0.612526</td>\n",
       "      <td>Man of Steel</td>\n",
       "    </tr>\n",
       "    <tr>\n",
       "      <th>4</th>\n",
       "      <td>0.721755</td>\n",
       "      <td>0.291876</td>\n",
       "      <td>0.917774</td>\n",
       "      <td>0.714576</td>\n",
       "      <td>Man of Steel</td>\n",
       "    </tr>\n",
       "  </tbody>\n",
       "</table>\n",
       "</div>"
      ],
      "text/plain": [
       "          a         b         c         d          nick_names\n",
       "0  0.771321  0.020752  0.633648  0.748804            Mad Monk\n",
       "1  0.498507  0.224797  0.198063  0.760531        Man of Steel\n",
       "2  0.169111  0.088340  0.685360  0.953393  Desiccated Coconut\n",
       "3  0.003948  0.512192  0.812621  0.612526        Man of Steel\n",
       "4  0.721755  0.291876  0.917774  0.714576        Man of Steel"
      ]
     },
     "execution_count": 12,
     "metadata": {},
     "output_type": "execute_result"
    }
   ],
   "source": [
    "df.head()"
   ]
  },
  {
   "cell_type": "markdown",
   "metadata": {},
   "source": [
    "Let's take the mean of column 'a' by nick_names. "
   ]
  },
  {
   "cell_type": "code",
   "execution_count": 13,
   "metadata": {},
   "outputs": [
    {
     "data": {
      "text/plain": [
       "nick_names\n",
       "Beetrooter            0.487092\n",
       "Desiccated Coconut    0.479433\n",
       "Lord Downer           0.488855\n",
       "Mad Monk              0.483189\n",
       "Man of Steel          0.489713\n",
       "Witch of Ipswich      0.507703\n",
       "Name: a, dtype: float64"
      ]
     },
     "execution_count": 13,
     "metadata": {},
     "output_type": "execute_result"
    }
   ],
   "source": [
    "df.groupby('nick_names')['a'].agg('mean')"
   ]
  },
  {
   "cell_type": "markdown",
   "metadata": {},
   "source": [
    "Rather than taking the mean of all the values in column 'a', take the mean of only those values that fall between 10th and 90th quantile. For this, let's use the function defined above, *quantile_range_mean*. This function takes two arguments: lower quantile and upper quantile, which default to 0.25 and 0.75, respectively."
   ]
  },
  {
   "cell_type": "code",
   "execution_count": 14,
   "metadata": {},
   "outputs": [
    {
     "data": {
      "text/plain": [
       "nick_names\n",
       "Beetrooter            0.483863\n",
       "Desiccated Coconut    0.480264\n",
       "Lord Downer           0.486858\n",
       "Mad Monk              0.481985\n",
       "Man of Steel          0.491312\n",
       "Witch of Ipswich      0.508748\n",
       "Name: a, dtype: float64"
      ]
     },
     "execution_count": 14,
     "metadata": {},
     "output_type": "execute_result"
    }
   ],
   "source": [
    "df.groupby('nick_names')['a'].agg(quantile_range_mean, 0.10, 0.90)"
   ]
  },
  {
   "cell_type": "markdown",
   "metadata": {},
   "source": [
    "As can be seen from the preceding example, the pandas *agg* function can take user-defined functions and accept arbitrary number of arguments that get passed to the called function."
   ]
  },
  {
   "cell_type": "markdown",
   "metadata": {},
   "source": [
    "Let's say that as well as the mean of a user-defined quantile range, we also want to display the minimum and maxinum value of column 'a' for each nick_name within specified quantile range. Something like below works:"
   ]
  },
  {
   "cell_type": "code",
   "execution_count": 15,
   "metadata": {},
   "outputs": [
    {
     "data": {
      "text/html": [
       "<div>\n",
       "<style>\n",
       "    .dataframe thead tr:only-child th {\n",
       "        text-align: right;\n",
       "    }\n",
       "\n",
       "    .dataframe thead th {\n",
       "        text-align: left;\n",
       "    }\n",
       "\n",
       "    .dataframe tbody tr th {\n",
       "        vertical-align: top;\n",
       "    }\n",
       "</style>\n",
       "<table border=\"1\" class=\"dataframe\">\n",
       "  <thead>\n",
       "    <tr style=\"text-align: right;\">\n",
       "      <th></th>\n",
       "      <th>quantile_range_min</th>\n",
       "      <th>quantile_range_max</th>\n",
       "      <th>quantile_range_mean</th>\n",
       "    </tr>\n",
       "    <tr>\n",
       "      <th>nick_names</th>\n",
       "      <th></th>\n",
       "      <th></th>\n",
       "      <th></th>\n",
       "    </tr>\n",
       "  </thead>\n",
       "  <tbody>\n",
       "    <tr>\n",
       "      <th>Beetrooter</th>\n",
       "      <td>0.227403</td>\n",
       "      <td>0.723634</td>\n",
       "      <td>0.476160</td>\n",
       "    </tr>\n",
       "    <tr>\n",
       "      <th>Desiccated Coconut</th>\n",
       "      <td>0.234289</td>\n",
       "      <td>0.727197</td>\n",
       "      <td>0.479607</td>\n",
       "    </tr>\n",
       "    <tr>\n",
       "      <th>Lord Downer</th>\n",
       "      <td>0.206459</td>\n",
       "      <td>0.747156</td>\n",
       "      <td>0.485860</td>\n",
       "    </tr>\n",
       "    <tr>\n",
       "      <th>Mad Monk</th>\n",
       "      <td>0.229195</td>\n",
       "      <td>0.698495</td>\n",
       "      <td>0.491532</td>\n",
       "    </tr>\n",
       "    <tr>\n",
       "      <th>Man of Steel</th>\n",
       "      <td>0.279090</td>\n",
       "      <td>0.703795</td>\n",
       "      <td>0.481207</td>\n",
       "    </tr>\n",
       "    <tr>\n",
       "      <th>Witch of Ipswich</th>\n",
       "      <td>0.301847</td>\n",
       "      <td>0.735880</td>\n",
       "      <td>0.506280</td>\n",
       "    </tr>\n",
       "  </tbody>\n",
       "</table>\n",
       "</div>"
      ],
      "text/plain": [
       "                    quantile_range_min  quantile_range_max  \\\n",
       "nick_names                                                   \n",
       "Beetrooter                    0.227403            0.723634   \n",
       "Desiccated Coconut            0.234289            0.727197   \n",
       "Lord Downer                   0.206459            0.747156   \n",
       "Mad Monk                      0.229195            0.698495   \n",
       "Man of Steel                  0.279090            0.703795   \n",
       "Witch of Ipswich              0.301847            0.735880   \n",
       "\n",
       "                    quantile_range_mean  \n",
       "nick_names                               \n",
       "Beetrooter                     0.476160  \n",
       "Desiccated Coconut             0.479607  \n",
       "Lord Downer                    0.485860  \n",
       "Mad Monk                       0.491532  \n",
       "Man of Steel                   0.481207  \n",
       "Witch of Ipswich               0.506280  "
      ]
     },
     "execution_count": 15,
     "metadata": {},
     "output_type": "execute_result"
    }
   ],
   "source": [
    "df.groupby('nick_names')['a'].agg([quantile_range_min, quantile_range_max, \\\n",
    "                quantile_range_mean], 0.10, 0.90, 0.50, 0.60, .20, .60)"
   ]
  },
  {
   "cell_type": "markdown",
   "metadata": {},
   "source": [
    "Using closures removes the visual noise created by the arguments to the user-defined functions. "
   ]
  },
  {
   "cell_type": "code",
   "execution_count": 16,
   "metadata": {},
   "outputs": [],
   "source": [
    "def agg_fun_factory(func, func_name, *args, **kwargs):\n",
    "    \"\"\"\n",
    "    A function to create a closure by passing *args and **kwargs to func()\n",
    "    \"\"\"\n",
    "    def wrapper(s):\n",
    "        return func(s, *args, **kwargs)\n",
    "    #rename wrapper() pandas agg() required each passed func to have unique names\n",
    "    wrapper.__name__ = func_name\n",
    "    return wrapper"
   ]
  },
  {
   "cell_type": "markdown",
   "metadata": {},
   "source": [
    "`Create closures and pass them to the pandas groupby aggregation function."
   ]
  },
  {
   "cell_type": "code",
   "execution_count": 17,
   "metadata": {},
   "outputs": [],
   "source": [
    "range_max = agg_fun_factory(quantile_range_max, 'q_range_max', 0.10, 0.90)\n",
    "range_min = agg_fun_factory(quantile_range_min, 'q_range_min', 0.10, 0.90)\n",
    "range_mean = agg_fun_factory(quantile_range_mean, 'q_range_mean', 0.10, 0.90)"
   ]
  },
  {
   "cell_type": "code",
   "execution_count": 18,
   "metadata": {},
   "outputs": [
    {
     "data": {
      "text/html": [
       "<div>\n",
       "<style>\n",
       "    .dataframe thead tr:only-child th {\n",
       "        text-align: right;\n",
       "    }\n",
       "\n",
       "    .dataframe thead th {\n",
       "        text-align: left;\n",
       "    }\n",
       "\n",
       "    .dataframe tbody tr th {\n",
       "        vertical-align: top;\n",
       "    }\n",
       "</style>\n",
       "<table border=\"1\" class=\"dataframe\">\n",
       "  <thead>\n",
       "    <tr style=\"text-align: right;\">\n",
       "      <th></th>\n",
       "      <th>min</th>\n",
       "      <th>q_range_min</th>\n",
       "      <th>max</th>\n",
       "      <th>q_range_max</th>\n",
       "      <th>mean</th>\n",
       "      <th>q_range_mean</th>\n",
       "    </tr>\n",
       "    <tr>\n",
       "      <th>nick_names</th>\n",
       "      <th></th>\n",
       "      <th></th>\n",
       "      <th></th>\n",
       "      <th></th>\n",
       "      <th></th>\n",
       "      <th></th>\n",
       "    </tr>\n",
       "  </thead>\n",
       "  <tbody>\n",
       "    <tr>\n",
       "      <th>Beetrooter</th>\n",
       "      <td>0.002195</td>\n",
       "      <td>0.102244</td>\n",
       "      <td>0.992005</td>\n",
       "      <td>0.924139</td>\n",
       "      <td>0.487092</td>\n",
       "      <td>0.483863</td>\n",
       "    </tr>\n",
       "    <tr>\n",
       "      <th>Desiccated Coconut</th>\n",
       "      <td>0.004240</td>\n",
       "      <td>0.067951</td>\n",
       "      <td>0.996232</td>\n",
       "      <td>0.861263</td>\n",
       "      <td>0.479433</td>\n",
       "      <td>0.480264</td>\n",
       "    </tr>\n",
       "    <tr>\n",
       "      <th>Lord Downer</th>\n",
       "      <td>0.003839</td>\n",
       "      <td>0.104957</td>\n",
       "      <td>0.996208</td>\n",
       "      <td>0.885314</td>\n",
       "      <td>0.488855</td>\n",
       "      <td>0.486858</td>\n",
       "    </tr>\n",
       "    <tr>\n",
       "      <th>Mad Monk</th>\n",
       "      <td>0.004974</td>\n",
       "      <td>0.092848</td>\n",
       "      <td>0.990937</td>\n",
       "      <td>0.839341</td>\n",
       "      <td>0.483189</td>\n",
       "      <td>0.481985</td>\n",
       "    </tr>\n",
       "    <tr>\n",
       "      <th>Man of Steel</th>\n",
       "      <td>0.001760</td>\n",
       "      <td>0.106938</td>\n",
       "      <td>0.962916</td>\n",
       "      <td>0.861383</td>\n",
       "      <td>0.489713</td>\n",
       "      <td>0.491312</td>\n",
       "    </tr>\n",
       "    <tr>\n",
       "      <th>Witch of Ipswich</th>\n",
       "      <td>0.024939</td>\n",
       "      <td>0.161427</td>\n",
       "      <td>0.987625</td>\n",
       "      <td>0.877607</td>\n",
       "      <td>0.507703</td>\n",
       "      <td>0.508748</td>\n",
       "    </tr>\n",
       "  </tbody>\n",
       "</table>\n",
       "</div>"
      ],
      "text/plain": [
       "                         min  q_range_min       max  q_range_max      mean  \\\n",
       "nick_names                                                                   \n",
       "Beetrooter          0.002195     0.102244  0.992005     0.924139  0.487092   \n",
       "Desiccated Coconut  0.004240     0.067951  0.996232     0.861263  0.479433   \n",
       "Lord Downer         0.003839     0.104957  0.996208     0.885314  0.488855   \n",
       "Mad Monk            0.004974     0.092848  0.990937     0.839341  0.483189   \n",
       "Man of Steel        0.001760     0.106938  0.962916     0.861383  0.489713   \n",
       "Witch of Ipswich    0.024939     0.161427  0.987625     0.877607  0.507703   \n",
       "\n",
       "                    q_range_mean  \n",
       "nick_names                        \n",
       "Beetrooter              0.483863  \n",
       "Desiccated Coconut      0.480264  \n",
       "Lord Downer             0.486858  \n",
       "Mad Monk                0.481985  \n",
       "Man of Steel            0.491312  \n",
       "Witch of Ipswich        0.508748  "
      ]
     },
     "execution_count": 18,
     "metadata": {},
     "output_type": "execute_result"
    }
   ],
   "source": [
    "df.groupby('nick_names')['a'].agg(['min', range_min, 'max', range_max, 'mean', range_mean])"
   ]
  }
 ],
 "metadata": {
  "kernelspec": {
   "display_name": "Python 3",
   "language": "python",
   "name": "python3"
  },
  "language_info": {
   "codemirror_mode": {
    "name": "ipython",
    "version": 3
   },
   "file_extension": ".py",
   "mimetype": "text/x-python",
   "name": "python",
   "nbconvert_exporter": "python",
   "pygments_lexer": "ipython3",
   "version": "3.6.3"
  }
 },
 "nbformat": 4,
 "nbformat_minor": 2
}
