{
 "cells": [
  {
   "cell_type": "markdown",
   "metadata": {},
   "source": [
    "# Entropy\n",
    "The concept of entropy comes from physics, where it gives a measure of the number of configurations that a thermodynamic system can take. A large entropy indicates more possible configurations and, hence, more uncertainty in the system.\n",
    "\n",
    "In machine learning, entropy gauges the level of impurity or uncertainty in data. Models such as decision trees use entropy to find features that, when used to perform splits, produce lowest possible entropies in the resultant groups. The reduction in entropy is information gain.\n",
    "\n",
    "Say, a decision tree is being trained to predict Green and Liberal voters in a dataset. When performing the first split, what is the label that can partition the dataset into two groups - that of Green and Liberal voters - with the highest accuracy? It is the label that produces the least amount of entropy in the two groups.\n",
    "\n",
    "For the sake of argument, let's say that the voter dataset consists of 50 females and 50 males, and that all the females vote Green and all the males vote Liberal. In this scenario, if the decision tree uses sex to split the dataset into Green and Liberal voters, then both the resultant groups would have 0 entropy.\n",
    "\n",
    "The formula for entropy is as follows:\n",
    "\n",
    "![entropy](images/entropy_formula.png)\n",
    " \n",
    "<i>n</i> is the total number of labels and <i>p</i> is the probability of the <i>ith</i> label appearing in the data.\n",
    "\n",
    "Let's build a function to calculate entropy."
   ]
  },
  {
   "cell_type": "code",
   "execution_count": 1,
   "metadata": {
    "collapsed": true
   },
   "outputs": [],
   "source": [
    "import pandas as pd\n",
    "import numpy as np"
   ]
  },
  {
   "cell_type": "code",
   "execution_count": 2,
   "metadata": {
    "collapsed": true
   },
   "outputs": [],
   "source": [
    "def entropy(labels):\n",
    "    \"\"\"\n",
    "    Return the entropy of labels\n",
    "    \"\"\"\n",
    "    if len(labels)==0:\n",
    "        return 0\n",
    "    s = pd.Series(labels)   \n",
    "    s_probs = s.value_counts(normalize=True)\n",
    "    return - np.sum(s_probs * np.log(s_probs))"
   ]
  },
  {
   "cell_type": "markdown",
   "metadata": {},
   "source": [
    "In the hypothetical voter dataset above, it was claimed that if the data was split by sex, it would result in groups with zero entropies as all the females vote Green and males vote Liberal. Let's test this claim by using the above entropy function."
   ]
  },
  {
   "cell_type": "code",
   "execution_count": 3,
   "metadata": {
    "collapsed": true
   },
   "outputs": [],
   "source": [
    "green_voters = ['Green' for _ in range(50)]\n",
    "liberal_voters = ['Liberal' for _ in range(50)]"
   ]
  },
  {
   "cell_type": "markdown",
   "metadata": {},
   "source": [
    "Check the values in the voter groups."
   ]
  },
  {
   "cell_type": "code",
   "execution_count": 4,
   "metadata": {},
   "outputs": [
    {
     "data": {
      "text/plain": [
       "['Green', 'Green', 'Green', 'Green', 'Green']"
      ]
     },
     "execution_count": 4,
     "metadata": {},
     "output_type": "execute_result"
    }
   ],
   "source": [
    "green_voters[:5]"
   ]
  },
  {
   "cell_type": "code",
   "execution_count": 5,
   "metadata": {},
   "outputs": [
    {
     "data": {
      "text/plain": [
       "['Liberal', 'Liberal', 'Liberal', 'Liberal', 'Liberal']"
      ]
     },
     "execution_count": 5,
     "metadata": {},
     "output_type": "execute_result"
    }
   ],
   "source": [
    "liberal_voters[-5:]"
   ]
  },
  {
   "cell_type": "markdown",
   "metadata": {},
   "source": [
    "Calculate the entropies."
   ]
  },
  {
   "cell_type": "code",
   "execution_count": 6,
   "metadata": {},
   "outputs": [
    {
     "name": "stdout",
     "output_type": "stream",
     "text": [
      "The entropy in green_voters and liberal_voters are -0.0 and -0.0, respectively\n"
     ]
    }
   ],
   "source": [
    "print(\"The entropy in green_voters and liberal_voters are {} and {}, respectively\"\\\n",
    "          .format(entropy(green_voters), entropy(liberal_voters)))"
   ]
  },
  {
   "cell_type": "markdown",
   "metadata": {},
   "source": [
    "Let's check the entropy in the dataset before it was split by sex. "
   ]
  },
  {
   "cell_type": "code",
   "execution_count": 7,
   "metadata": {},
   "outputs": [
    {
     "data": {
      "text/plain": [
       "0.6931471805599453"
      ]
     },
     "execution_count": 7,
     "metadata": {},
     "output_type": "execute_result"
    }
   ],
   "source": [
    "entropy(green_voters + liberal_voters)"
   ]
  },
  {
   "cell_type": "markdown",
   "metadata": {},
   "source": [
    "As can be seen, entropy was much higher before the data was split by sex."
   ]
  },
  {
   "cell_type": "markdown",
   "metadata": {},
   "source": [
    "What is the entropy if all the 100 voters voted for different political parties numbered from 0 to 99? Let's find out."
   ]
  },
  {
   "cell_type": "code",
   "execution_count": 8,
   "metadata": {},
   "outputs": [
    {
     "data": {
      "text/plain": [
       "4.605170185988082"
      ]
     },
     "execution_count": 8,
     "metadata": {},
     "output_type": "execute_result"
    }
   ],
   "source": [
    "entropy(range(100))"
   ]
  },
  {
   "cell_type": "markdown",
   "metadata": {},
   "source": [
    "Unlike a voter from the Green or Liberal cohort in the hypothetical voter dataset above, in this dataset of 100 voters, there is little certainty in the voting intention of a randomly selected voter. This is reflected in the much higher level of entropy."
   ]
  }
 ],
 "metadata": {
  "kernelspec": {
   "display_name": "Python 3",
   "language": "python",
   "name": "python3"
  },
  "language_info": {
   "codemirror_mode": {
    "name": "ipython",
    "version": 3
   },
   "file_extension": ".py",
   "mimetype": "text/x-python",
   "name": "python",
   "nbconvert_exporter": "python",
   "pygments_lexer": "ipython3",
   "version": "3.6.3"
  }
 },
 "nbformat": 4,
 "nbformat_minor": 2
}
