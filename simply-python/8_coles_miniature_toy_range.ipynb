{
 "cells": [
  {
   "cell_type": "markdown",
   "metadata": {},
   "source": [
    "# How much do you need to spend to collect all 30 Coles miniature toys?"
   ]
  },
  {
   "cell_type": "markdown",
   "metadata": {},
   "source": [
    "Coles Supermarkets recently [launched a promo](https://www.news.com.au/finance/business/retail/coles-to-launch-little-shop-miniature-toy-range/news-story/59c1add54ecc4f9753c6ef82b11529a1) featuring 30 miniature toy versions of poular brands. To be eligible for one of these toys, shoppers have to spend $30 or more in a single transaction. Spending $60.00 or more in a single transaction makes shoppers eligble for 2 of these miniature toys, and so on.\n",
    "\n",
    "Assuming that the chance of getting any of the 30 toys at any time is uniformly random, how much shoppers have to spend on average to collect all the 30 toys? This can be answered by solving the [coupon collector's problem](https://en.wikipedia.org/wiki/Coupon_collector%27s_problem). Here is a solution in Python:"
   ]
  },
  {
   "cell_type": "code",
   "execution_count": 4,
   "metadata": {},
   "outputs": [
    {
     "name": "stdout",
     "output_type": "stream",
     "text": [
      "On average, shoppers have to spend $3,595.49 to get all toys.\n"
     ]
    }
   ],
   "source": [
    "from fractions import Fraction\n",
    "\n",
    "min_spend = 30\n",
    "total_toys = 30\n",
    "\n",
    "total_shopping_trips = total_toys * sum(Fraction(1, toy + 1) for toy in range(total_toys))\n",
    "print(\"On average, shoppers have to spend ${:,.2f} to get all toys.\".format(float(total_shopping_trips * min_spend)))"
   ]
  },
  {
   "cell_type": "markdown",
   "metadata": {},
   "source": [
    "In reality, though, shoppers swap extra toys, shop assistants happily exchange unopened toys, and the distribution of toys in a store will not be uniformly distributed. However, the above calculation gives a good indication of how much a shopper has to spend to collect all the toys if she does not trade extra toys with other shoppers."
   ]
  }
 ],
 "metadata": {
  "kernelspec": {
   "display_name": "Python 3",
   "language": "python",
   "name": "python3"
  },
  "language_info": {
   "codemirror_mode": {
    "name": "ipython",
    "version": 3
   },
   "file_extension": ".py",
   "mimetype": "text/x-python",
   "name": "python",
   "nbconvert_exporter": "python",
   "pygments_lexer": "ipython3",
   "version": "3.6.3"
  }
 },
 "nbformat": 4,
 "nbformat_minor": 2
}
