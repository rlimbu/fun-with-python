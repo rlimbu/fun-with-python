{
 "cells": [
  {
   "cell_type": "markdown",
   "metadata": {},
   "source": [
    "# Sum a List of Numbers Recursively\n",
    "This notebook demonstrates summing a list of numbers recursively."
   ]
  },
  {
   "cell_type": "code",
   "execution_count": 15,
   "metadata": {
    "collapsed": true
   },
   "outputs": [],
   "source": [
    "def recursive_sum(l):\n",
    "    \"\"\"\n",
    "    Sum the numbers given in the list 'l' by calling the recursive function __recur_sum()\n",
    "    \"\"\"\n",
    "    def __sum(h, t):\n",
    "        \"\"\"\n",
    "        Implements recursive sum\n",
    "        \"\"\"\n",
    "        if t:\n",
    "            return h + __sum(t[0], t[1:])\n",
    "        else:\n",
    "            return h\n",
    "    \n",
    "    # call the recursive function __sum() and pass l\n",
    "    return __sum(l[0], l[1:])"
   ]
  },
  {
   "cell_type": "code",
   "execution_count": 16,
   "metadata": {},
   "outputs": [
    {
     "data": {
      "text/plain": [
       "5050"
      ]
     },
     "execution_count": 16,
     "metadata": {},
     "output_type": "execute_result"
    }
   ],
   "source": [
    "recursive_sum(list(range(101)))"
   ]
  }
 ],
 "metadata": {
  "kernelspec": {
   "display_name": "Python 3",
   "language": "python",
   "name": "python3"
  },
  "language_info": {
   "codemirror_mode": {
    "name": "ipython",
    "version": 3
   },
   "file_extension": ".py",
   "mimetype": "text/x-python",
   "name": "python",
   "nbconvert_exporter": "python",
   "pygments_lexer": "ipython3",
   "version": "3.5.3"
  }
 },
 "nbformat": 4,
 "nbformat_minor": 2
}
