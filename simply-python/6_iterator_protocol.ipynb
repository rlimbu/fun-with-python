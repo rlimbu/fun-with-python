{
 "cells": [
  {
   "cell_type": "markdown",
   "metadata": {},
   "source": [
    "# The Iterator Protocol #"
   ]
  },
  {
   "cell_type": "markdown",
   "metadata": {},
   "source": [
    "In Python, an iterator is an object that represents a stream of data. It must implement a method named <i>\\__next\\__()</i> that takes no arguments and returns the next item from the stream, and raises <i>StopIteration</i> exception when items are exhausted from the stream. An iterator does not have to raise the <i>StopIteration</i> exception, returning an endless stream of data.\n",
    "\n",
    "An iterator also must implement a method named <i>\\__iter\\__()</i> to allow both an interator and iterable to be used with <i>for</i> and <i>in</i>. In an iterator, <i>\\__iter\\__()</i> returns itself.\n",
    "\n",
    "The methods <i>\\__next\\__()</i> and <i>\\__iter\\__()</i> comprise the iterator protocol.\n",
    "\n",
    "An iterable is an object that returns an iterator by calling a method named <i>\\__iter\\__()</i>. If an iterable has implemented <i>\\__next()\\__</i> method, it can return itself.\n",
    "\n",
    "The in-built function <i>iter()</i> takes an arbitrary object as an argument and tries to return an iterator. It throws <i>TypeError</i> if the object does not support the iterator protocol. Similarly, the in-built function <i>next()</i> takes an interator as an arguemnt and calls the iterator's <i>\\__next\\__()</i> method."
   ]
  },
  {
   "cell_type": "code",
   "execution_count": 1,
   "metadata": {},
   "outputs": [
    {
     "data": {
      "text/plain": [
       "list_iterator"
      ]
     },
     "execution_count": 1,
     "metadata": {},
     "output_type": "execute_result"
    }
   ],
   "source": [
    "my_list = list(range(10))\n",
    "itr = iter(my_list)\n",
    "type(itr)"
   ]
  },
  {
   "cell_type": "markdown",
   "metadata": {},
   "source": [
    "The function <i>iter()</i> returned a list iterator when passed the list <i>my_list</i>. Hence, <i>my_list</i> is an iterable, just like other containes such as tuples and dictionaries.\n",
    "\n",
    "Check to see that <i>my_list</i> has a method named <i>\\__iter\\__()</i>."
   ]
  },
  {
   "cell_type": "code",
   "execution_count": 2,
   "metadata": {},
   "outputs": [
    {
     "data": {
      "text/plain": [
       "True"
      ]
     },
     "execution_count": 2,
     "metadata": {},
     "output_type": "execute_result"
    }
   ],
   "source": [
    "'__iter__' in dir(my_list)"
   ]
  },
  {
   "cell_type": "markdown",
   "metadata": {},
   "source": [
    "Call <i>\\__iter\\__()</i> directly."
   ]
  },
  {
   "cell_type": "code",
   "execution_count": 3,
   "metadata": {},
   "outputs": [
    {
     "data": {
      "text/plain": [
       "<list_iterator at 0x3e0a130>"
      ]
     },
     "execution_count": 3,
     "metadata": {},
     "output_type": "execute_result"
    }
   ],
   "source": [
    "my_list.__iter__()"
   ]
  },
  {
   "cell_type": "markdown",
   "metadata": {},
   "source": [
    "Get the next item by passing the iterator <i>itr</i> to <i>next()</i>."
   ]
  },
  {
   "cell_type": "code",
   "execution_count": 4,
   "metadata": {},
   "outputs": [
    {
     "data": {
      "text/plain": [
       "0"
      ]
     },
     "execution_count": 4,
     "metadata": {},
     "output_type": "execute_result"
    }
   ],
   "source": [
    "next(itr)"
   ]
  },
  {
   "cell_type": "markdown",
   "metadata": {},
   "source": [
    "Call <i>\\__next\\__()</i> directly."
   ]
  },
  {
   "cell_type": "code",
   "execution_count": 5,
   "metadata": {},
   "outputs": [
    {
     "data": {
      "text/plain": [
       "1"
      ]
     },
     "execution_count": 5,
     "metadata": {},
     "output_type": "execute_result"
    }
   ],
   "source": [
    "itr.__next__()"
   ]
  },
  {
   "cell_type": "markdown",
   "metadata": {},
   "source": [
    "Iterables are used in many scenarios, including in loops and comprehensions. The following two list comprehensions are equivalent."
   ]
  },
  {
   "cell_type": "code",
   "execution_count": 6,
   "metadata": {},
   "outputs": [
    {
     "data": {
      "text/plain": [
       "[0, 1, 4, 9, 16, 25, 36, 49, 64, 81]"
      ]
     },
     "execution_count": 6,
     "metadata": {},
     "output_type": "execute_result"
    }
   ],
   "source": [
    "[i * i for i in iter(my_list)]"
   ]
  },
  {
   "cell_type": "code",
   "execution_count": 7,
   "metadata": {},
   "outputs": [
    {
     "data": {
      "text/plain": [
       "[0, 1, 4, 9, 16, 25, 36, 49, 64, 81]"
      ]
     },
     "execution_count": 7,
     "metadata": {},
     "output_type": "execute_result"
    }
   ],
   "source": [
    "[i * i for i in my_list]"
   ]
  },
  {
   "cell_type": "markdown",
   "metadata": {},
   "source": [
    "So are the following two <i>for</i> loops."
   ]
  },
  {
   "cell_type": "code",
   "execution_count": 8,
   "metadata": {},
   "outputs": [
    {
     "name": "stdout",
     "output_type": "stream",
     "text": [
      "0 1 2 3 4 5 6 7 8 9 "
     ]
    }
   ],
   "source": [
    "for i in iter(my_list):\n",
    "    print(i, end= ' ')"
   ]
  },
  {
   "cell_type": "code",
   "execution_count": 9,
   "metadata": {},
   "outputs": [
    {
     "name": "stdout",
     "output_type": "stream",
     "text": [
      "0 1 2 3 4 5 6 7 8 9 "
     ]
    }
   ],
   "source": [
    "for i in my_list:\n",
    "    print(i, end=' ')"
   ]
  },
  {
   "cell_type": "markdown",
   "metadata": {},
   "source": [
    "Let's implement a class that implements the iterator protocol. Start by writing the iterable class."
   ]
  },
  {
   "cell_type": "code",
   "execution_count": 10,
   "metadata": {
    "collapsed": true
   },
   "outputs": [],
   "source": [
    "class IterableSwapCase:\n",
    "    \"\"\"\n",
    "    An interable class to swap text cases, i.e. turn upper case to lower case and vice versa\n",
    "    \"\"\"\n",
    "    def __init__(self, text):\n",
    "        self.text = text\n",
    "    \n",
    "    def __iter__(self):\n",
    "        return IteratorSwapCase(self.text) \n"
   ]
  },
  {
   "cell_type": "markdown",
   "metadata": {
    "collapsed": true
   },
   "source": [
    "Next, write the iterator class."
   ]
  },
  {
   "cell_type": "code",
   "execution_count": 11,
   "metadata": {
    "collapsed": true
   },
   "outputs": [],
   "source": [
    "class IteratorSwapCase:\n",
    "    \"\"\"\n",
    "    An iterator class to swap cases of texts\n",
    "    \"\"\"\n",
    "    def __init__(self, text):\n",
    "        self.word_list = [word.swapcase() for word in text.split()]\n",
    "        self.index = 0\n",
    "        self.len_word_list = len(self.word_list)\n",
    "        \n",
    "    def __next__(self):\n",
    "        if self.index == self.len_word_list:\n",
    "            raise StopIteration() \n",
    "        word = self.word_list[self.index]\n",
    "        self.index += 1\n",
    "        return word\n",
    "    \n",
    "    def __iter__(self):\n",
    "        return self"
   ]
  },
  {
   "cell_type": "markdown",
   "metadata": {},
   "source": [
    "Time to put the iterable class to test!"
   ]
  },
  {
   "cell_type": "code",
   "execution_count": 12,
   "metadata": {
    "collapsed": true
   },
   "outputs": [],
   "source": [
    "text = \"Stephen Hawking, science's brightest star, dies aged 76\"\n",
    "text_iterable = IterableSwapCase(text)"
   ]
  },
  {
   "cell_type": "code",
   "execution_count": 13,
   "metadata": {},
   "outputs": [
    {
     "name": "stdout",
     "output_type": "stream",
     "text": [
      "sTEPHEN\n",
      "hAWKING,\n",
      "SCIENCE'S\n",
      "BRIGHTEST\n",
      "STAR,\n",
      "DIES\n",
      "AGED\n",
      "76\n"
     ]
    }
   ],
   "source": [
    "for word in text_iterable:\n",
    "    print(word)"
   ]
  },
  {
   "cell_type": "markdown",
   "metadata": {
    "collapsed": true
   },
   "source": [
    "Initialise and use the iterator directly."
   ]
  },
  {
   "cell_type": "code",
   "execution_count": 14,
   "metadata": {},
   "outputs": [
    {
     "data": {
      "text/plain": [
       "__main__.IteratorSwapCase"
      ]
     },
     "execution_count": 14,
     "metadata": {},
     "output_type": "execute_result"
    }
   ],
   "source": [
    "text_iterator = IteratorSwapCase(\"Puppy dies after being put in overhead bin on United flight\")\n",
    "type(text_iterator)"
   ]
  },
  {
   "cell_type": "code",
   "execution_count": 15,
   "metadata": {},
   "outputs": [
    {
     "data": {
      "text/plain": [
       "['pUPPY',\n",
       " 'DIES',\n",
       " 'AFTER',\n",
       " 'BEING',\n",
       " 'PUT',\n",
       " 'IN',\n",
       " 'OVERHEAD',\n",
       " 'BIN',\n",
       " 'ON',\n",
       " 'uNITED',\n",
       " 'FLIGHT']"
      ]
     },
     "execution_count": 15,
     "metadata": {},
     "output_type": "execute_result"
    }
   ],
   "source": [
    "[word for word in text_iterator]"
   ]
  },
  {
   "cell_type": "markdown",
   "metadata": {},
   "source": [
    "The iterator pattern is so common that Python makes it easier to implement it. This will be the subject of future posts."
   ]
  }
 ],
 "metadata": {
  "kernelspec": {
   "display_name": "Python 3",
   "language": "python",
   "name": "python3"
  },
  "language_info": {
   "codemirror_mode": {
    "name": "ipython",
    "version": 3
   },
   "file_extension": ".py",
   "mimetype": "text/x-python",
   "name": "python",
   "nbconvert_exporter": "python",
   "pygments_lexer": "ipython3",
   "version": "3.6.3"
  }
 },
 "nbformat": 4,
 "nbformat_minor": 2
}
