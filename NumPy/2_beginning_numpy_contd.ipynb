{
 "cells": [
  {
   "cell_type": "markdown",
   "metadata": {},
   "source": [
    "# NumPy Basics - Part 2\n",
    "This notebook continues the overview of NumPy basics.\n",
    "### Reshaping Arrays"
   ]
  },
  {
   "cell_type": "markdown",
   "metadata": {},
   "source": [
    "NumPy arrays can be reshaped using the *reshape* method. The size of the initial array must match the size of the reshaped array. Where possible, NumPy creates the reshaped array as a view but this is not guaranteed."
   ]
  },
  {
   "cell_type": "code",
   "execution_count": 4,
   "metadata": {
    "collapsed": false
   },
   "outputs": [
    {
     "name": "stdout",
     "output_type": "stream",
     "text": [
      "[[ 0  1  2  3  4]\n",
      " [ 5  6  7  8  9]\n",
      " [10 11 12 13 14]\n",
      " [15 16 17 18 19]\n",
      " [20 21 22 23 24]]\n"
     ]
    }
   ],
   "source": [
    "import numpy as np\n",
    "a = np.arange(0, 25).reshape((5, 5))\n",
    "print(a)"
   ]
  },
  {
   "cell_type": "markdown",
   "metadata": {},
   "source": [
    "If an one-dimensional array is to be transformed into a two-dimensional row or column matrix, then either the *reshape* method or the *newaxis* keyword can be used within a slice operation.  "
   ]
  },
  {
   "cell_type": "code",
   "execution_count": 5,
   "metadata": {
    "collapsed": false
   },
   "outputs": [
    {
     "name": "stdout",
     "output_type": "stream",
     "text": [
      "[ 0  1  2  3  4  5  6  7  8  9 10 11 12 13 14 15 16 17 18 19 20 21 22 23 24]\n"
     ]
    }
   ],
   "source": [
    "b = np.array(np.arange(25))\n",
    "print(b)"
   ]
  },
  {
   "cell_type": "code",
   "execution_count": 6,
   "metadata": {
    "collapsed": false
   },
   "outputs": [
    {
     "name": "stdout",
     "output_type": "stream",
     "text": [
      "[[ 0  1  2  3  4  5  6  7  8  9 10 11 12 13 14 15 16 17 18 19 20 21 22 23\n",
      "  24]]\n"
     ]
    }
   ],
   "source": [
    "# turn 'b' into a two-dimensional row vector\n",
    "c = b[np.newaxis, :]\n",
    "print(c)"
   ]
  },
  {
   "cell_type": "code",
   "execution_count": 8,
   "metadata": {
    "collapsed": false
   },
   "outputs": [
    {
     "name": "stdout",
     "output_type": "stream",
     "text": [
      "Shapes for 'b' and 'c' are (25,), (1, 25), respectively.\n"
     ]
    }
   ],
   "source": [
    "print(\"Shapes for 'b' and 'c' are {}, {}, respectively.\".format(b.shape, c.shape))"
   ]
  },
  {
   "cell_type": "code",
   "execution_count": 9,
   "metadata": {
    "collapsed": false
   },
   "outputs": [
    {
     "name": "stdout",
     "output_type": "stream",
     "text": [
      "[[ 0]\n",
      " [ 1]\n",
      " [ 2]\n",
      " [ 3]\n",
      " [ 4]\n",
      " [ 5]\n",
      " [ 6]\n",
      " [ 7]\n",
      " [ 8]\n",
      " [ 9]\n",
      " [10]\n",
      " [11]\n",
      " [12]\n",
      " [13]\n",
      " [14]\n",
      " [15]\n",
      " [16]\n",
      " [17]\n",
      " [18]\n",
      " [19]\n",
      " [20]\n",
      " [21]\n",
      " [22]\n",
      " [23]\n",
      " [24]]\n"
     ]
    }
   ],
   "source": [
    "# turn b into a two-dimensional column vetor\n",
    "d = b[:, np.newaxis]\n",
    "print(d)"
   ]
  },
  {
   "cell_type": "code",
   "execution_count": 13,
   "metadata": {
    "collapsed": false
   },
   "outputs": [
    {
     "name": "stdout",
     "output_type": "stream",
     "text": [
      "The shape of 'd' is (25, 1)\n"
     ]
    }
   ],
   "source": [
    "print(\"The shape of 'd' is {}\".format(d.shape))"
   ]
  },
  {
   "cell_type": "code",
   "execution_count": 14,
   "metadata": {
    "collapsed": true
   },
   "outputs": [],
   "source": [
    "# the row and column vecs could equivalently be created as follows\n",
    "c_new = b.reshape((1, 25))\n",
    "d_new = b.reshape((25, 1))"
   ]
  },
  {
   "cell_type": "code",
   "execution_count": 15,
   "metadata": {
    "collapsed": false
   },
   "outputs": [
    {
     "name": "stdout",
     "output_type": "stream",
     "text": [
      "The shapes of 'c_new' and 'd_new' are (1, 25), (25, 1), respectively.\n"
     ]
    }
   ],
   "source": [
    "print(\"The shapes of 'c_new' and 'd_new' are {}, {}, respectively.\".format(c_new.shape, d_new.shape))"
   ]
  },
  {
   "cell_type": "markdown",
   "metadata": {},
   "source": [
    "### Concatenating Arrays\n",
    "\n",
    "NumPy methods *np.concatenate*, *np.vstack* and *np.hstack* can be used to concatenate arrays.\n",
    "\n",
    "*np.concatenate* accepts a tuple or list of two or more arrays as its first argument and creates a new array."
   ]
  },
  {
   "cell_type": "code",
   "execution_count": 17,
   "metadata": {
    "collapsed": true
   },
   "outputs": [],
   "source": [
    "a = np.arange(10)\n",
    "b = np.arange(10, 20)\n",
    "c = np.arange(20, 30)"
   ]
  },
  {
   "cell_type": "code",
   "execution_count": 18,
   "metadata": {
    "collapsed": false
   },
   "outputs": [
    {
     "name": "stdout",
     "output_type": "stream",
     "text": [
      "[0 1 2 3 4 5 6 7 8 9] , [10 11 12 13 14 15 16 17 18 19] ,  [20 21 22 23 24 25 26 27 28 29]\n"
     ]
    }
   ],
   "source": [
    "print(a, \",\", b, \", \", c)"
   ]
  },
  {
   "cell_type": "code",
   "execution_count": 19,
   "metadata": {
    "collapsed": false
   },
   "outputs": [
    {
     "name": "stdout",
     "output_type": "stream",
     "text": [
      "[ 0  1  2  3  4  5  6  7  8  9 10 11 12 13 14 15 16 17 18 19 20 21 22 23 24\n",
      " 25 26 27 28 29]\n"
     ]
    }
   ],
   "source": [
    "p = np.concatenate([a, b, c])\n",
    "print(p)"
   ]
  },
  {
   "cell_type": "code",
   "execution_count": 20,
   "metadata": {
    "collapsed": false
   },
   "outputs": [
    {
     "name": "stdout",
     "output_type": "stream",
     "text": [
      "[[ 0  1  2  3]\n",
      " [ 4  5  6  7]\n",
      " [ 8  9 10 11]\n",
      " [ 0  1  2  3]\n",
      " [ 4  5  6  7]\n",
      " [ 8  9 10 11]\n",
      " [ 0  1  2  3]\n",
      " [ 4  5  6  7]\n",
      " [ 8  9 10 11]]\n"
     ]
    }
   ],
   "source": [
    "# concatenate works with multi-dimensional arrays, too\n",
    "d = np.arange(12).reshape((3, 4))\n",
    "q = np.concatenate([d, d, d])\n",
    "print(q)"
   ]
  },
  {
   "cell_type": "code",
   "execution_count": 21,
   "metadata": {
    "collapsed": false
   },
   "outputs": [
    {
     "name": "stdout",
     "output_type": "stream",
     "text": [
      "[[ 0  1  2  3  0  1  2  3]\n",
      " [ 4  5  6  7  4  5  6  7]\n",
      " [ 8  9 10 11  8  9 10 11]]\n"
     ]
    }
   ],
   "source": [
    "# use second axis as the concatenation direction\n",
    "r = np.concatenate([d, d], axis=1)\n",
    "print(r)"
   ]
  },
  {
   "cell_type": "markdown",
   "metadata": {},
   "source": [
    "When arrays have different dimensions, using *np.vstack* and *np.hstack* could be more intuitive."
   ]
  },
  {
   "cell_type": "code",
   "execution_count": 22,
   "metadata": {
    "collapsed": false
   },
   "outputs": [
    {
     "data": {
      "text/plain": [
       "array([[4, 5, 6],\n",
       "       [0, 1, 2],\n",
       "       [3, 4, 5],\n",
       "       [6, 7, 8]])"
      ]
     },
     "execution_count": 22,
     "metadata": {},
     "output_type": "execute_result"
    }
   ],
   "source": [
    "# vertical stack\n",
    "v1 = np.array([4, 5, 6])\n",
    "v2 = np.arange(9).reshape(3, 3)\n",
    "np.vstack([v1, v2])"
   ]
  },
  {
   "cell_type": "code",
   "execution_count": 23,
   "metadata": {
    "collapsed": false
   },
   "outputs": [
    {
     "data": {
      "text/plain": [
       "array([[ 0, 25, 26, 27, 28, 29],\n",
       "       [ 1, 30, 31, 32, 33, 34],\n",
       "       [ 2, 35, 36, 37, 38, 39],\n",
       "       [ 3, 40, 41, 42, 43, 44],\n",
       "       [ 4, 45, 46, 47, 48, 49]])"
      ]
     },
     "execution_count": 23,
     "metadata": {},
     "output_type": "execute_result"
    }
   ],
   "source": [
    "# horizontal stack\n",
    "h1 = np.arange(5)[:, np.newaxis]\n",
    "h2 = np.arange(25, 50).reshape(5, 5)\n",
    "np.hstack([h1, h2])"
   ]
  },
  {
   "cell_type": "markdown",
   "metadata": {},
   "source": [
    "*np.dstasck* stacks arrays along the third axis."
   ]
  },
  {
   "cell_type": "code",
   "execution_count": 24,
   "metadata": {
    "collapsed": true
   },
   "outputs": [],
   "source": [
    "# dstack\n",
    "x = np.arange(9).reshape((3, 3))\n",
    "y = np.arange(9, 18).reshape((3, 3))\n",
    "z = np.arange(18, 27).reshape((3, 3))"
   ]
  },
  {
   "cell_type": "code",
   "execution_count": 25,
   "metadata": {
    "collapsed": false
   },
   "outputs": [
    {
     "data": {
      "text/plain": [
       "array([[[ 0,  9, 18],\n",
       "        [ 1, 10, 19],\n",
       "        [ 2, 11, 20]],\n",
       "\n",
       "       [[ 3, 12, 21],\n",
       "        [ 4, 13, 22],\n",
       "        [ 5, 14, 23]],\n",
       "\n",
       "       [[ 6, 15, 24],\n",
       "        [ 7, 16, 25],\n",
       "        [ 8, 17, 26]]])"
      ]
     },
     "execution_count": 25,
     "metadata": {},
     "output_type": "execute_result"
    }
   ],
   "source": [
    "np.dstack([x, y, z])"
   ]
  },
  {
   "cell_type": "markdown",
   "metadata": {},
   "source": [
    "### Splitting Arrays\n",
    "Functions *np.split*, *np.vsplit* and *np.hsplit* provide means of splitting arrays along split points passed as a list of indices. \n",
    "\n",
    "If the passed list of indices is *[n_0, n_1]*, then there will be 3 split arrays, with the first one consisting of elements up to but not including the index *n_0*, the second one consisting of elements from *n_0* to *n_1* but not including the latter index, and the third one consisting of the remaining elements starting at index *n_1*. \n",
    "\n",
    "If *n* number of indices are passed as split points, there will be *n + 1* sub-arrays."
   ]
  },
  {
   "cell_type": "code",
   "execution_count": 26,
   "metadata": {
    "collapsed": false
   },
   "outputs": [
    {
     "name": "stdout",
     "output_type": "stream",
     "text": [
      "[0 1] [2 3 4 5 6] [7 8 9]\n"
     ]
    }
   ],
   "source": [
    "s = np.arange(10)\n",
    "s1, s2, s3 = np.split(s, [2, 7])\n",
    "print(s1, s2, s3)"
   ]
  },
  {
   "cell_type": "code",
   "execution_count": 27,
   "metadata": {
    "collapsed": false
   },
   "outputs": [
    {
     "name": "stdout",
     "output_type": "stream",
     "text": [
      "[[ 0  1  2]\n",
      " [ 3  4  5]\n",
      " [ 6  7  8]\n",
      " [ 9 10 11]]\n"
     ]
    }
   ],
   "source": [
    "# np.vsplit\n",
    "v = np.arange(12).reshape(4, 3)\n",
    "print(v)"
   ]
  },
  {
   "cell_type": "code",
   "execution_count": 28,
   "metadata": {
    "collapsed": false
   },
   "outputs": [
    {
     "name": "stdout",
     "output_type": "stream",
     "text": [
      "[[0 1 2]\n",
      " [3 4 5]] \n",
      "\n",
      " [[ 6  7  8]\n",
      " [ 9 10 11]]\n"
     ]
    }
   ],
   "source": [
    "upper, lower = np.vsplit(v, [2])\n",
    "print(upper, \"\\n\\n\", lower)"
   ]
  },
  {
   "cell_type": "code",
   "execution_count": 29,
   "metadata": {
    "collapsed": false
   },
   "outputs": [
    {
     "name": "stdout",
     "output_type": "stream",
     "text": [
      "[[ 0  1  2  3  4  5  6  7  8  9]\n",
      " [10 11 12 13 14 15 16 17 18 19]\n",
      " [20 21 22 23 24 25 26 27 28 29]\n",
      " [30 31 32 33 34 35 36 37 38 39]]\n"
     ]
    }
   ],
   "source": [
    "# np.hsplit\n",
    "h = np.arange(40).reshape(4, 10)\n",
    "print(h)"
   ]
  },
  {
   "cell_type": "code",
   "execution_count": 30,
   "metadata": {
    "collapsed": false
   },
   "outputs": [
    {
     "name": "stdout",
     "output_type": "stream",
     "text": [
      "[[ 0  1  2  3  4]\n",
      " [10 11 12 13 14]\n",
      " [20 21 22 23 24]\n",
      " [30 31 32 33 34]] \n",
      "\n",
      " [[ 5  6  7  8  9]\n",
      " [15 16 17 18 19]\n",
      " [25 26 27 28 29]\n",
      " [35 36 37 38 39]]\n"
     ]
    }
   ],
   "source": [
    "left, right = np.hsplit(h, [5])\n",
    "print(left, \"\\n\\n\", right)"
   ]
  }
 ],
 "metadata": {
  "kernelspec": {
   "display_name": "Python 3",
   "language": "python",
   "name": "python3"
  },
  "language_info": {
   "codemirror_mode": {
    "name": "ipython",
    "version": 3
   },
   "file_extension": ".py",
   "mimetype": "text/x-python",
   "name": "python",
   "nbconvert_exporter": "python",
   "pygments_lexer": "ipython3",
   "version": "3.5.3"
  }
 },
 "nbformat": 4,
 "nbformat_minor": 2
}
