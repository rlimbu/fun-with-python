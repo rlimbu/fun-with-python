{
 "cells": [
  {
   "cell_type": "markdown",
   "metadata": {},
   "source": [
    "# NumPy Basics - Part 1\n",
    "\n",
    "NumPy forms the bedrock of the Python scientific stack. It provides a key data structure, n-dimensional array, with fast mathematical operations. "
   ]
  },
  {
   "cell_type": "code",
   "execution_count": 1,
   "metadata": {
    "collapsed": false
   },
   "outputs": [
    {
     "name": "stdout",
     "output_type": "stream",
     "text": [
      "[ 1  2  3  4  5  6  7  8  9 10 11 12 13 14 15 16 17 18 19 20 21 22 23 24 25\n",
      " 26 27 28 29 30 31 32 33 34 35 36 37 38 39 40 41 42 43 44 45 46 47 48 49 50]\n"
     ]
    }
   ],
   "source": [
    "import numpy as np\n",
    "\n",
    "# create a numpy array of integers from 1 to 50\n",
    "a = np.array(np.arange(1, 51))\n",
    "print(a)"
   ]
  },
  {
   "cell_type": "markdown",
   "metadata": {},
   "source": [
    "NumPy arrays have attributes *ndim*, *shape* and *size*."
   ]
  },
  {
   "cell_type": "code",
   "execution_count": 3,
   "metadata": {
    "collapsed": false
   },
   "outputs": [
    {
     "name": "stdout",
     "output_type": "stream",
     "text": [
      "ndim = 1, shape = (50,) and size = 50.\n"
     ]
    }
   ],
   "source": [
    "print(\"ndim = {}, shape = {} and size = {}.\".format(a.ndim, a.shape, a.size))"
   ]
  },
  {
   "cell_type": "markdown",
   "metadata": {},
   "source": [
    "Data type, the size of each element (in bytes) and total size of the array (in bytes) are some other useful attributes exposed by NumPy arrays."
   ]
  },
  {
   "cell_type": "code",
   "execution_count": 4,
   "metadata": {
    "collapsed": false
   },
   "outputs": [
    {
     "name": "stdout",
     "output_type": "stream",
     "text": [
      "data type = int64, element size = 8, total size = 400\n"
     ]
    }
   ],
   "source": [
    "print(\"data type = {}, element size = {}, total size = {}\".format(a.dtype, a.itemsize, a.nbytes))"
   ]
  },
  {
   "cell_type": "markdown",
   "metadata": {},
   "source": [
    "Indexing and subscripting work just like in standard Python."
   ]
  },
  {
   "cell_type": "markdown",
   "metadata": {},
   "source": [
    "## Accessing Elements of One-Dimensional Arrays Through Indexing"
   ]
  },
  {
   "cell_type": "code",
   "execution_count": 5,
   "metadata": {
    "collapsed": false
   },
   "outputs": [
    {
     "name": "stdout",
     "output_type": "stream",
     "text": [
      "1 , 50\n"
     ]
    }
   ],
   "source": [
    "# access the first and last element of the array\n",
    "print(a[0], \",\", a[-1])"
   ]
  },
  {
   "cell_type": "code",
   "execution_count": 6,
   "metadata": {
    "collapsed": false
   },
   "outputs": [
    {
     "name": "stdout",
     "output_type": "stream",
     "text": [
      "49 , 48\n"
     ]
    }
   ],
   "source": [
    "# accessing the second last and third last element of the array\n",
    "print(a[-2], ',', a[-3])"
   ]
  },
  {
   "cell_type": "markdown",
   "metadata": {},
   "source": [
    "## Accessing Multi-Dimensional Array Elements Through Indices\n",
    "\n",
    "In the case of multi-dimensional arrays, too, individual array elements can be accessed via tuples of comma separated indices."
   ]
  },
  {
   "cell_type": "code",
   "execution_count": 7,
   "metadata": {
    "collapsed": false
   },
   "outputs": [
    {
     "name": "stdout",
     "output_type": "stream",
     "text": [
      "[[35 14 47 38 16]\n",
      " [ 9  8 36 39 27]\n",
      " [48 30 16  7 12]\n",
      " [15 49 39 16 27]\n",
      " [44 13 11  1 47]\n",
      " [30 20 22 18  9]\n",
      " [42 41 41  1 18]\n",
      " [39 16 14  5  0]\n",
      " [16  4 46 36 41]\n",
      " [27 31  2  4 38]]\n"
     ]
    }
   ],
   "source": [
    "np.random.seed(5)\n",
    "b = np.random.randint(50, size=(10, 5))\n",
    "print(b)"
   ]
  },
  {
   "cell_type": "code",
   "execution_count": 8,
   "metadata": {
    "collapsed": false
   },
   "outputs": [
    {
     "data": {
      "text/plain": [
       "47"
      ]
     },
     "execution_count": 8,
     "metadata": {},
     "output_type": "execute_result"
    }
   ],
   "source": [
    "# access individual elements\n",
    "b[0, 2]"
   ]
  },
  {
   "cell_type": "code",
   "execution_count": 9,
   "metadata": {
    "collapsed": false
   },
   "outputs": [
    {
     "data": {
      "text/plain": [
       "38"
      ]
     },
     "execution_count": 9,
     "metadata": {},
     "output_type": "execute_result"
    }
   ],
   "source": [
    "# access the element in the last row and last column\n",
    "b[-1, -1]"
   ]
  },
  {
   "cell_type": "code",
   "execution_count": 10,
   "metadata": {
    "collapsed": false
   },
   "outputs": [
    {
     "data": {
      "text/plain": [
       "35"
      ]
     },
     "execution_count": 10,
     "metadata": {},
     "output_type": "execute_result"
    }
   ],
   "source": [
    "# access the element in the first row, first column\n",
    "b[0, 0]"
   ]
  },
  {
   "cell_type": "code",
   "execution_count": 11,
   "metadata": {
    "collapsed": true
   },
   "outputs": [],
   "source": [
    "# update the element in the last row, last column\n",
    "b[-1, -1] = 100"
   ]
  },
  {
   "cell_type": "code",
   "execution_count": 12,
   "metadata": {
    "collapsed": false
   },
   "outputs": [
    {
     "data": {
      "text/plain": [
       "array([[ 35,  14,  47,  38,  16],\n",
       "       [  9,   8,  36,  39,  27],\n",
       "       [ 48,  30,  16,   7,  12],\n",
       "       [ 15,  49,  39,  16,  27],\n",
       "       [ 44,  13,  11,   1,  47],\n",
       "       [ 30,  20,  22,  18,   9],\n",
       "       [ 42,  41,  41,   1,  18],\n",
       "       [ 39,  16,  14,   5,   0],\n",
       "       [ 16,   4,  46,  36,  41],\n",
       "       [ 27,  31,   2,   4, 100]])"
      ]
     },
     "execution_count": 12,
     "metadata": {},
     "output_type": "execute_result"
    }
   ],
   "source": [
    "b"
   ]
  },
  {
   "cell_type": "markdown",
   "metadata": {},
   "source": [
    "## Slicing Subarrays off One-Dimensional Arrays\n",
    "\n",
    "Just like in standard Python, colon \":\" acts as the list slicing operator in NumPy."
   ]
  },
  {
   "cell_type": "code",
   "execution_count": 13,
   "metadata": {
    "collapsed": false
   },
   "outputs": [
    {
     "data": {
      "text/plain": [
       "array([ 1,  2,  3,  4,  5,  6,  7,  8,  9, 10, 11, 12, 13, 14, 15, 16, 17,\n",
       "       18, 19, 20, 21, 22, 23, 24, 25])"
      ]
     },
     "execution_count": 13,
     "metadata": {},
     "output_type": "execute_result"
    }
   ],
   "source": [
    "# print the first 25 elements of 'a'\n",
    "a[:25]"
   ]
  },
  {
   "cell_type": "code",
   "execution_count": 15,
   "metadata": {
    "collapsed": false
   },
   "outputs": [
    {
     "data": {
      "text/plain": [
       "array([26, 27, 28, 29, 30, 31, 32, 33, 34, 35, 36, 37, 38, 39, 40, 41, 42,\n",
       "       43, 44, 45, 46, 47, 48, 49, 50])"
      ]
     },
     "execution_count": 15,
     "metadata": {},
     "output_type": "execute_result"
    }
   ],
   "source": [
    "# print the last 25 elements of the array\n",
    "a[25:]"
   ]
  },
  {
   "cell_type": "code",
   "execution_count": 16,
   "metadata": {
    "collapsed": false
   },
   "outputs": [
    {
     "data": {
      "text/plain": [
       "array([ 3,  5,  7,  9, 11, 13, 15, 17, 19, 21, 23, 25, 27, 29, 31, 33, 35,\n",
       "       37, 39, 41, 43, 45, 47, 49])"
      ]
     },
     "execution_count": 16,
     "metadata": {},
     "output_type": "execute_result"
    }
   ],
   "source": [
    "# print only the odd elements of the array starting with integer 3, which is in array position 2\n",
    "a[2::2]"
   ]
  },
  {
   "cell_type": "code",
   "execution_count": 17,
   "metadata": {
    "collapsed": false
   },
   "outputs": [
    {
     "data": {
      "text/plain": [
       "array([50, 49, 48, 47, 46, 45, 44, 43, 42, 41, 40, 39, 38, 37, 36, 35, 34,\n",
       "       33, 32, 31, 30, 29, 28, 27, 26, 25, 24, 23, 22, 21, 20, 19, 18, 17,\n",
       "       16, 15, 14, 13, 12, 11, 10,  9,  8,  7,  6,  5,  4,  3,  2,  1])"
      ]
     },
     "execution_count": 17,
     "metadata": {},
     "output_type": "execute_result"
    }
   ],
   "source": [
    "# print the reverse of the array 'a'\n",
    "a[::-1]"
   ]
  },
  {
   "cell_type": "code",
   "execution_count": 18,
   "metadata": {
    "collapsed": false
   },
   "outputs": [
    {
     "data": {
      "text/plain": [
       "array([49, 47, 45, 43, 41, 39, 37, 35, 33, 31, 29, 27, 25, 23, 21, 19, 17,\n",
       "       15, 13, 11,  9,  7,  5,  3,  1])"
      ]
     },
     "execution_count": 18,
     "metadata": {},
     "output_type": "execute_result"
    }
   ],
   "source": [
    "# print the reverse of the array 'a' starting at the second last element, i.e. 49\n",
    "a[-2::-2]"
   ]
  },
  {
   "cell_type": "markdown",
   "metadata": {},
   "source": [
    "## Slicing Subarrays off Multi-Dimensional Arrays"
   ]
  },
  {
   "cell_type": "markdown",
   "metadata": {
    "collapsed": true
   },
   "source": [
    "Slicing subarrays from multi-dimensional arrays works the same way. The slices for different dimensions are separated by commas within square brackets."
   ]
  },
  {
   "cell_type": "code",
   "execution_count": 19,
   "metadata": {
    "collapsed": false
   },
   "outputs": [
    {
     "name": "stdout",
     "output_type": "stream",
     "text": [
      "[[ 35  14  47  38  16]\n",
      " [  9   8  36  39  27]\n",
      " [ 48  30  16   7  12]\n",
      " [ 15  49  39  16  27]\n",
      " [ 44  13  11   1  47]\n",
      " [ 30  20  22  18   9]\n",
      " [ 42  41  41   1  18]\n",
      " [ 39  16  14   5   0]\n",
      " [ 16   4  46  36  41]\n",
      " [ 27  31   2   4 100]]\n"
     ]
    }
   ],
   "source": [
    "# print b\n",
    "print(b)"
   ]
  },
  {
   "cell_type": "code",
   "execution_count": 20,
   "metadata": {
    "collapsed": false
   },
   "outputs": [
    {
     "data": {
      "text/plain": [
       "array([[35, 14, 47],\n",
       "       [ 9,  8, 36],\n",
       "       [48, 30, 16]])"
      ]
     },
     "execution_count": 20,
     "metadata": {},
     "output_type": "execute_result"
    }
   ],
   "source": [
    "# form a subarray comprising the first three rows and columns\n",
    "b[:3, :3]\n"
   ]
  },
  {
   "cell_type": "code",
   "execution_count": 21,
   "metadata": {
    "collapsed": false
   },
   "outputs": [
    {
     "data": {
      "text/plain": [
       "array([[ 36,  41],\n",
       "       [  4, 100]])"
      ]
     },
     "execution_count": 21,
     "metadata": {},
     "output_type": "execute_result"
    }
   ],
   "source": [
    "# form a subarray comprising the last 2 rows and columns\n",
    "b[-2:, -2:]"
   ]
  },
  {
   "cell_type": "code",
   "execution_count": 22,
   "metadata": {
    "collapsed": false
   },
   "outputs": [
    {
     "data": {
      "text/plain": [
       "array([[35, 14, 47, 38, 16],\n",
       "       [48, 30, 16,  7, 12],\n",
       "       [44, 13, 11,  1, 47],\n",
       "       [42, 41, 41,  1, 18],\n",
       "       [16,  4, 46, 36, 41]])"
      ]
     },
     "execution_count": 22,
     "metadata": {},
     "output_type": "execute_result"
    }
   ],
   "source": [
    "# subarray comprising every other row, all columns\n",
    "b[::2, :]\n"
   ]
  },
  {
   "cell_type": "code",
   "execution_count": 23,
   "metadata": {
    "collapsed": false
   },
   "outputs": [
    {
     "data": {
      "text/plain": [
       "array([[100,   4,   2,  31,  27],\n",
       "       [ 41,  36,  46,   4,  16],\n",
       "       [  0,   5,  14,  16,  39],\n",
       "       [ 18,   1,  41,  41,  42],\n",
       "       [  9,  18,  22,  20,  30],\n",
       "       [ 47,   1,  11,  13,  44],\n",
       "       [ 27,  16,  39,  49,  15],\n",
       "       [ 12,   7,  16,  30,  48],\n",
       "       [ 27,  39,  36,   8,   9],\n",
       "       [ 16,  38,  47,  14,  35]])"
      ]
     },
     "execution_count": 23,
     "metadata": {},
     "output_type": "execute_result"
    }
   ],
   "source": [
    "# Reverse subarray dimensions\n",
    "b[::-1, ::-1]"
   ]
  },
  {
   "cell_type": "code",
   "execution_count": 24,
   "metadata": {
    "collapsed": false
   },
   "outputs": [
    {
     "data": {
      "text/plain": [
       "array([35, 14, 47, 38, 16])"
      ]
     },
     "execution_count": 24,
     "metadata": {},
     "output_type": "execute_result"
    }
   ],
   "source": [
    "# Accessing first row of the array\n",
    "b[0,:]"
   ]
  },
  {
   "cell_type": "code",
   "execution_count": 25,
   "metadata": {
    "collapsed": false
   },
   "outputs": [
    {
     "data": {
      "text/plain": [
       "array([ 16,  27,  12,  27,  47,   9,  18,   0,  41, 100])"
      ]
     },
     "execution_count": 25,
     "metadata": {},
     "output_type": "execute_result"
    }
   ],
   "source": [
    "# accessing the last column of the array\n",
    "b[:, -1]"
   ]
  },
  {
   "cell_type": "markdown",
   "metadata": {},
   "source": [
    "When accessing rows, the column slice is redundant. Here is a neat way to access the first row only."
   ]
  },
  {
   "cell_type": "code",
   "execution_count": 26,
   "metadata": {
    "collapsed": false
   },
   "outputs": [
    {
     "data": {
      "text/plain": [
       "array([35, 14, 47, 38, 16])"
      ]
     },
     "execution_count": 26,
     "metadata": {},
     "output_type": "execute_result"
    }
   ],
   "source": [
    "b[0]"
   ]
  },
  {
   "cell_type": "markdown",
   "metadata": {},
   "source": [
    "First 2 rows only."
   ]
  },
  {
   "cell_type": "code",
   "execution_count": 27,
   "metadata": {
    "collapsed": false
   },
   "outputs": [
    {
     "data": {
      "text/plain": [
       "array([[35, 14, 47, 38, 16],\n",
       "       [ 9,  8, 36, 39, 27]])"
      ]
     },
     "execution_count": 27,
     "metadata": {},
     "output_type": "execute_result"
    }
   ],
   "source": [
    "b[:2]"
   ]
  },
  {
   "cell_type": "markdown",
   "metadata": {},
   "source": [
    "Last 2 rows only."
   ]
  },
  {
   "cell_type": "code",
   "execution_count": 28,
   "metadata": {
    "collapsed": false
   },
   "outputs": [
    {
     "data": {
      "text/plain": [
       "array([[ 16,   4,  46,  36,  41],\n",
       "       [ 27,  31,   2,   4, 100]])"
      ]
     },
     "execution_count": 28,
     "metadata": {},
     "output_type": "execute_result"
    }
   ],
   "source": [
    "# last 2 rows\n",
    "b[-2:]"
   ]
  },
  {
   "cell_type": "markdown",
   "metadata": {},
   "source": [
    "## Subarrays are Views!\n",
    "\n",
    "Unlike Python lists, slicing NumPy arrays creates views. This can be observed by changing some values of a subarray and checking the changes in the parent array."
   ]
  },
  {
   "cell_type": "code",
   "execution_count": 29,
   "metadata": {
    "collapsed": false
   },
   "outputs": [
    {
     "name": "stdout",
     "output_type": "stream",
     "text": [
      "[[ 35  14  47  38  16]\n",
      " [  9   8  36  39  27]\n",
      " [ 48  30  16   7  12]\n",
      " [ 15  49  39  16  27]\n",
      " [ 44  13  11   1  47]\n",
      " [ 30  20  22  18   9]\n",
      " [ 42  41  41   1  18]\n",
      " [ 39  16  14   5   0]\n",
      " [ 16   4  46  36  41]\n",
      " [ 27  31   2   4 100]]\n"
     ]
    }
   ],
   "source": [
    "print(b)"
   ]
  },
  {
   "cell_type": "code",
   "execution_count": 30,
   "metadata": {
    "collapsed": false
   },
   "outputs": [
    {
     "name": "stdout",
     "output_type": "stream",
     "text": [
      "[[35 14]\n",
      " [ 9  8]]\n"
     ]
    }
   ],
   "source": [
    "c = b[:2,:2]\n",
    "print(c)"
   ]
  },
  {
   "cell_type": "markdown",
   "metadata": {
    "collapsed": true
   },
   "source": [
    "Change a value in the subarray 'c' and observe the same in array 'b'."
   ]
  },
  {
   "cell_type": "code",
   "execution_count": 31,
   "metadata": {
    "collapsed": false
   },
   "outputs": [
    {
     "name": "stdout",
     "output_type": "stream",
     "text": [
      "[[  35 1000]\n",
      " [   9    8]]\n"
     ]
    }
   ],
   "source": [
    "c[0, 1] = 1000\n",
    "print(c)"
   ]
  },
  {
   "cell_type": "markdown",
   "metadata": {},
   "source": [
    "Let's see if the element b[0, 1] has been changed to 1000."
   ]
  },
  {
   "cell_type": "code",
   "execution_count": 32,
   "metadata": {
    "collapsed": false
   },
   "outputs": [
    {
     "data": {
      "text/plain": [
       "array([[  35, 1000,   47,   38,   16],\n",
       "       [   9,    8,   36,   39,   27],\n",
       "       [  48,   30,   16,    7,   12],\n",
       "       [  15,   49,   39,   16,   27],\n",
       "       [  44,   13,   11,    1,   47],\n",
       "       [  30,   20,   22,   18,    9],\n",
       "       [  42,   41,   41,    1,   18],\n",
       "       [  39,   16,   14,    5,    0],\n",
       "       [  16,    4,   46,   36,   41],\n",
       "       [  27,   31,    2,    4,  100]])"
      ]
     },
     "execution_count": 32,
     "metadata": {},
     "output_type": "execute_result"
    }
   ],
   "source": [
    "b"
   ]
  },
  {
   "cell_type": "markdown",
   "metadata": {},
   "source": [
    "Subarrays as views to arrays becomes important when processing huge datasets.\n",
    "\n",
    "If a copy of an array needs to be created, the *copy()* array method can be used."
   ]
  },
  {
   "cell_type": "code",
   "execution_count": 33,
   "metadata": {
    "collapsed": false
   },
   "outputs": [
    {
     "name": "stdout",
     "output_type": "stream",
     "text": [
      "[[  35 1000]\n",
      " [   9    8]]\n"
     ]
    }
   ],
   "source": [
    "d = b[:2, :2].copy()\n",
    "print(d)"
   ]
  },
  {
   "cell_type": "markdown",
   "metadata": {},
   "source": [
    "\n",
    "Change 1,l000 to 500 in array 'd'."
   ]
  },
  {
   "cell_type": "code",
   "execution_count": 34,
   "metadata": {
    "collapsed": false
   },
   "outputs": [
    {
     "name": "stdout",
     "output_type": "stream",
     "text": [
      "[[ 35 500]\n",
      " [  9   8]]\n"
     ]
    }
   ],
   "source": [
    "d[0, 1] = 500\n",
    "print(d)"
   ]
  },
  {
   "cell_type": "markdown",
   "metadata": {},
   "source": [
    "Check array 'b' to ensure element [0, 1] still  has 1000."
   ]
  },
  {
   "cell_type": "code",
   "execution_count": 35,
   "metadata": {
    "collapsed": false
   },
   "outputs": [
    {
     "name": "stdout",
     "output_type": "stream",
     "text": [
      "[[  35 1000   47   38   16]\n",
      " [   9    8   36   39   27]\n",
      " [  48   30   16    7   12]\n",
      " [  15   49   39   16   27]\n",
      " [  44   13   11    1   47]\n",
      " [  30   20   22   18    9]\n",
      " [  42   41   41    1   18]\n",
      " [  39   16   14    5    0]\n",
      " [  16    4   46   36   41]\n",
      " [  27   31    2    4  100]]\n"
     ]
    }
   ],
   "source": [
    "print(b)"
   ]
  },
  {
   "cell_type": "markdown",
   "metadata": {},
   "source": [
    "As expected, the parent array 'b' did not change."
   ]
  }
 ],
 "metadata": {
  "kernelspec": {
   "display_name": "Python 3",
   "language": "python",
   "name": "python3"
  },
  "language_info": {
   "codemirror_mode": {
    "name": "ipython",
    "version": 3
   },
   "file_extension": ".py",
   "mimetype": "text/x-python",
   "name": "python",
   "nbconvert_exporter": "python",
   "pygments_lexer": "ipython3",
   "version": "3.5.3"
  }
 },
 "nbformat": 4,
 "nbformat_minor": 2
}
