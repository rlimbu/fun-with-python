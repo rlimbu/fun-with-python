{
 "cells": [
  {
   "cell_type": "markdown",
   "metadata": {},
   "source": [
    "# Replacing <i>For<i/> Loops With List Comprehension\n",
    "This notebook is based on this [tutorial](https://www.dataquest.io/blog/regular-expressions-data-scientists/?imm_mid=0f9342&cmp=em-data-na-na-newsltr_20171206). In this notebook, <i>for</i> loops are replaced by list comprehension.\n",
    "\n",
    "The dataset used in this notebook can be found in the original tutorial [here](https://www.dataquest.io/blog/images/regex/test_emails.txt). This dataset has only a small sample of emails from the original Kaggle fraud email dataset to be found [here](https://www.kaggle.com/rtatman/fraudulent-email-corpus)."
   ]
  },
  {
   "cell_type": "markdown",
   "metadata": {},
   "source": [
    "First, open the test emails file, and read it into a variable."
   ]
  },
  {
   "cell_type": "code",
   "execution_count": 1,
   "metadata": {
    "collapsed": true
   },
   "outputs": [],
   "source": [
    "fh = open(r\"./datasets/test_emails.txt\", encoding=\"utf-8\").read()"
   ]
  },
  {
   "cell_type": "markdown",
   "metadata": {},
   "source": [
    "In the tutorial, to start with, a for loop is used to find lines with the text \"From:\" without using regular expressions:"
   ]
  },
  {
   "cell_type": "code",
   "execution_count": 3,
   "metadata": {},
   "outputs": [
    {
     "name": "stdout",
     "output_type": "stream",
     "text": [
      "From: \"MR. JAMES NGOLA.\" <james_ngola2002@maktoob.com>\n",
      "From: \"Mr. Ben Suleman\" <bensul2004nng@spinfinder.com>\n",
      "From: \"PRINCE OBONG ELEME\" <obong_715@epatra.com>\n",
      "From: \"PRINCE OBONG ELEME\" <obong_715@epatra.com>\n",
      "From: \"Maryam Abacha\" <m_abacha03@www.com>\n"
     ]
    }
   ],
   "source": [
    "# code from the tutorial\n",
    "for line in fh.split(\"\\n\"):\n",
    "    if \"From:\" in line:\n",
    "        print(line)"
   ]
  },
  {
   "cell_type": "markdown",
   "metadata": {},
   "source": [
    "The above code can be re-written with list comprehension as follows:"
   ]
  },
  {
   "cell_type": "code",
   "execution_count": 4,
   "metadata": {},
   "outputs": [
    {
     "data": {
      "text/plain": [
       "['From: \"MR. JAMES NGOLA.\" <james_ngola2002@maktoob.com>',\n",
       " 'From: \"Mr. Ben Suleman\" <bensul2004nng@spinfinder.com>',\n",
       " 'From: \"PRINCE OBONG ELEME\" <obong_715@epatra.com>',\n",
       " 'From: \"PRINCE OBONG ELEME\" <obong_715@epatra.com>',\n",
       " 'From: \"Maryam Abacha\" <m_abacha03@www.com>']"
      ]
     },
     "execution_count": 4,
     "metadata": {},
     "output_type": "execute_result"
    }
   ],
   "source": [
    "[line for line in fh.split(\"\\n\") if \"From:\" in line]"
   ]
  },
  {
   "cell_type": "markdown",
   "metadata": {},
   "source": [
    "Next, the tutorial finds lines with the text \"From:\" using regular expression:"
   ]
  },
  {
   "cell_type": "code",
   "execution_count": 5,
   "metadata": {},
   "outputs": [
    {
     "name": "stdout",
     "output_type": "stream",
     "text": [
      "From: \"MR. JAMES NGOLA.\" <james_ngola2002@maktoob.com>\n",
      "From: \"Mr. Ben Suleman\" <bensul2004nng@spinfinder.com>\n",
      "From: \"PRINCE OBONG ELEME\" <obong_715@epatra.com>\n",
      "From: \"PRINCE OBONG ELEME\" <obong_715@epatra.com>\n",
      "From: \"Maryam Abacha\" <m_abacha03@www.com>\n"
     ]
    }
   ],
   "source": [
    "import re\n",
    "\n",
    "for line in re.findall(\"From:.*\", fh):\n",
    "    print(line)"
   ]
  },
  {
   "cell_type": "markdown",
   "metadata": {},
   "source": [
    "With list comprehension, this becomes:"
   ]
  },
  {
   "cell_type": "code",
   "execution_count": 6,
   "metadata": {},
   "outputs": [
    {
     "data": {
      "text/plain": [
       "['From: \"MR. JAMES NGOLA.\" <james_ngola2002@maktoob.com>',\n",
       " 'From: \"Mr. Ben Suleman\" <bensul2004nng@spinfinder.com>',\n",
       " 'From: \"PRINCE OBONG ELEME\" <obong_715@epatra.com>',\n",
       " 'From: \"PRINCE OBONG ELEME\" <obong_715@epatra.com>',\n",
       " 'From: \"Maryam Abacha\" <m_abacha03@www.com>']"
      ]
     },
     "execution_count": 6,
     "metadata": {},
     "output_type": "execute_result"
    }
   ],
   "source": [
    "[line for line in fh.split(\"\\n\") if re.findall(\"From:.*\", line)]"
   ]
  },
  {
   "cell_type": "markdown",
   "metadata": {},
   "source": [
    "Instead of the whole line with the string \"From:\" in them, the tutorial shows how to extract just the names of senders:"
   ]
  },
  {
   "cell_type": "code",
   "execution_count": 7,
   "metadata": {},
   "outputs": [
    {
     "name": "stdout",
     "output_type": "stream",
     "text": [
      "['\"MR. JAMES NGOLA.\"']\n",
      "['\"Mr. Ben Suleman\"']\n",
      "['\"PRINCE OBONG ELEME\"']\n",
      "['\"PRINCE OBONG ELEME\"']\n",
      "['\"Maryam Abacha\"']\n"
     ]
    }
   ],
   "source": [
    "match = re.findall(\"From:.*\", fh)\n",
    "for line in match:\n",
    "    print(re.findall(\"\\\".*\\\"\", line))"
   ]
  },
  {
   "cell_type": "markdown",
   "metadata": {},
   "source": [
    "This can be re-written as a list comprehension:"
   ]
  },
  {
   "cell_type": "code",
   "execution_count": 8,
   "metadata": {},
   "outputs": [
    {
     "data": {
      "text/plain": [
       "[['\"MR. JAMES NGOLA.\"'],\n",
       " ['\"Mr. Ben Suleman\"'],\n",
       " ['\"PRINCE OBONG ELEME\"'],\n",
       " ['\"PRINCE OBONG ELEME\"'],\n",
       " ['\"Maryam Abacha\"']]"
      ]
     },
     "execution_count": 8,
     "metadata": {},
     "output_type": "execute_result"
    }
   ],
   "source": [
    "# extract texts up to the end of names\n",
    "[re.findall(\"\\\".*\\\"\", name) for name in [line for line in fh.split(\"\\n\") if re.findall(\"From:.*\", line)]]"
   ]
  },
  {
   "cell_type": "markdown",
   "metadata": {},
   "source": [
    "Email addresses are extracted next in the tutorial:"
   ]
  },
  {
   "cell_type": "code",
   "execution_count": 9,
   "metadata": {},
   "outputs": [
    {
     "name": "stdout",
     "output_type": "stream",
     "text": [
      "['james_ngola2002@maktoob.com']\n",
      "['bensul2004nng@spinfinder.com']\n",
      "['obong_715@epatra.com']\n",
      "['obong_715@epatra.com']\n",
      "['m_abacha03@www.com']\n"
     ]
    }
   ],
   "source": [
    "match = re.findall(\"From:.*\", fh)\n",
    "\n",
    "for line in match:\n",
    "    print(re.findall(\"\\w\\S*@.*\\w\", line))"
   ]
  },
  {
   "cell_type": "markdown",
   "metadata": {},
   "source": [
    "With list comprehension, this becomes:"
   ]
  },
  {
   "cell_type": "code",
   "execution_count": 11,
   "metadata": {},
   "outputs": [
    {
     "data": {
      "text/plain": [
       "[['james_ngola2002@maktoob.com'],\n",
       " ['bensul2004nng@spinfinder.com'],\n",
       " ['obong_715@epatra.com'],\n",
       " ['obong_715@epatra.com'],\n",
       " ['m_abacha03@www.com']]"
      ]
     },
     "execution_count": 11,
     "metadata": {},
     "output_type": "execute_result"
    }
   ],
   "source": [
    "[re.findall(\"\\w\\S*@.*\\w\", email) for email in [line for line in fh.split(\"\\n\") if re.findall(\"From:.*\", line)]]"
   ]
  },
  {
   "cell_type": "markdown",
   "metadata": {},
   "source": [
    "A nested for loop is used to extract username and domain name from the email address:"
   ]
  },
  {
   "cell_type": "code",
   "execution_count": 13,
   "metadata": {},
   "outputs": [
    {
     "name": "stdout",
     "output_type": "stream",
     "text": [
      "james_ngola2002, maktoob.com\n",
      "bensul2004nng, spinfinder.com\n",
      "obong_715, epatra.com\n",
      "obong_715, epatra.com\n",
      "m_abacha03, www.com\n"
     ]
    }
   ],
   "source": [
    "address = re.findall(\"From:.*\", fh)\n",
    "for item in address:\n",
    "    for line in re.findall(\"\\w\\S*@.*\\w\", item):\n",
    "        username, domain_name = re.split(\"@\", line)\n",
    "        print(\"{}, {}\".format(username, domain_name))"
   ]
  },
  {
   "cell_type": "markdown",
   "metadata": {},
   "source": [
    "A list comprehension one-liner can accomplish the same but it comes at a price in readability:"
   ]
  },
  {
   "cell_type": "code",
   "execution_count": 22,
   "metadata": {},
   "outputs": [
    {
     "data": {
      "text/plain": [
       "[['james_ngola2002', 'maktoob.com'],\n",
       " ['bensul2004nng', 'spinfinder.com'],\n",
       " ['obong_715', 'epatra.com'],\n",
       " ['obong_715', 'epatra.com'],\n",
       " ['m_abacha03', 'www.com']]"
      ]
     },
     "execution_count": 22,
     "metadata": {},
     "output_type": "execute_result"
    }
   ],
   "source": [
    "[re.split(\"@\", domain[0]) for domain in [re.findall(\"\\w\\S*@.*\\w\", email) for email in [line for line in fh.split(\"\\n\") if re.findall(\"From:.*\", line)]]]"
   ]
  },
  {
   "cell_type": "markdown",
   "metadata": {},
   "source": [
    "Comprehension is one of the features that I love most about Python but as the last example shows, there can be too much of a good thing."
   ]
  }
 ],
 "metadata": {
  "kernelspec": {
   "display_name": "Python 3",
   "language": "python",
   "name": "python3"
  },
  "language_info": {
   "codemirror_mode": {
    "name": "ipython",
    "version": 3
   },
   "file_extension": ".py",
   "mimetype": "text/x-python",
   "name": "python",
   "nbconvert_exporter": "python",
   "pygments_lexer": "ipython3",
   "version": "3.5.3"
  }
 },
 "nbformat": 4,
 "nbformat_minor": 2
}
